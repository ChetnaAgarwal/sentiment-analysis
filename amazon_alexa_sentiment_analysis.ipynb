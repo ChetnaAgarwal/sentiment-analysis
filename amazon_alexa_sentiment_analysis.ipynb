{
 "cells": [
  {
   "cell_type": "markdown",
   "metadata": {
    "colab_type": "text",
    "id": "v2L0zxhEJuQx"
   },
   "source": [
    "#IMPORT DATA AND LIBRARIES"
   ]
  },
  {
   "cell_type": "code",
   "execution_count": 1,
   "metadata": {
    "colab": {},
    "colab_type": "code",
    "id": "aaGIomAoGjWR"
   },
   "outputs": [],
   "source": [
    "# import libraries \n",
    "import pandas as pd # Import Pandas for data manipulation using dataframes\n",
    "import numpy as np # Import Numpy for data statistical analysis \n",
    "import matplotlib.pyplot as plt # Import matplotlib for data visualisation\n",
    "import seaborn as sns # Statistical data visualization\n",
    "# %matplotlib inline"
   ]
  },
  {
   "cell_type": "code",
   "execution_count": 2,
   "metadata": {
    "colab": {},
    "colab_type": "code",
    "id": "fgK0e8McJYBx"
   },
   "outputs": [],
   "source": [
    "df_alexa = pd.read_csv('amazon_alexa.tsv', sep='\\t')"
   ]
  },
  {
   "cell_type": "code",
   "execution_count": 3,
   "metadata": {
    "colab": {
     "base_uri": "https://localhost:8080/",
     "height": 195
    },
    "colab_type": "code",
    "id": "dpeP01b0Jc2Y",
    "outputId": "8eb1af48-af55-4271-a9e5-3138bed4c49b"
   },
   "outputs": [
    {
     "data": {
      "text/html": [
       "<div>\n",
       "<style scoped>\n",
       "    .dataframe tbody tr th:only-of-type {\n",
       "        vertical-align: middle;\n",
       "    }\n",
       "\n",
       "    .dataframe tbody tr th {\n",
       "        vertical-align: top;\n",
       "    }\n",
       "\n",
       "    .dataframe thead th {\n",
       "        text-align: right;\n",
       "    }\n",
       "</style>\n",
       "<table border=\"1\" class=\"dataframe\">\n",
       "  <thead>\n",
       "    <tr style=\"text-align: right;\">\n",
       "      <th></th>\n",
       "      <th>rating</th>\n",
       "      <th>date</th>\n",
       "      <th>variation</th>\n",
       "      <th>verified_reviews</th>\n",
       "      <th>feedback</th>\n",
       "    </tr>\n",
       "  </thead>\n",
       "  <tbody>\n",
       "    <tr>\n",
       "      <td>0</td>\n",
       "      <td>5</td>\n",
       "      <td>31-Jul-18</td>\n",
       "      <td>Charcoal Fabric</td>\n",
       "      <td>Love my Echo!</td>\n",
       "      <td>1</td>\n",
       "    </tr>\n",
       "    <tr>\n",
       "      <td>1</td>\n",
       "      <td>5</td>\n",
       "      <td>31-Jul-18</td>\n",
       "      <td>Charcoal Fabric</td>\n",
       "      <td>Loved it!</td>\n",
       "      <td>1</td>\n",
       "    </tr>\n",
       "    <tr>\n",
       "      <td>2</td>\n",
       "      <td>4</td>\n",
       "      <td>31-Jul-18</td>\n",
       "      <td>Walnut Finish</td>\n",
       "      <td>Sometimes while playing a game, you can answer...</td>\n",
       "      <td>1</td>\n",
       "    </tr>\n",
       "    <tr>\n",
       "      <td>3</td>\n",
       "      <td>5</td>\n",
       "      <td>31-Jul-18</td>\n",
       "      <td>Charcoal Fabric</td>\n",
       "      <td>I have had a lot of fun with this thing. My 4 ...</td>\n",
       "      <td>1</td>\n",
       "    </tr>\n",
       "    <tr>\n",
       "      <td>4</td>\n",
       "      <td>5</td>\n",
       "      <td>31-Jul-18</td>\n",
       "      <td>Charcoal Fabric</td>\n",
       "      <td>Music</td>\n",
       "      <td>1</td>\n",
       "    </tr>\n",
       "  </tbody>\n",
       "</table>\n",
       "</div>"
      ],
      "text/plain": [
       "   rating       date         variation  \\\n",
       "0       5  31-Jul-18  Charcoal Fabric    \n",
       "1       5  31-Jul-18  Charcoal Fabric    \n",
       "2       4  31-Jul-18    Walnut Finish    \n",
       "3       5  31-Jul-18  Charcoal Fabric    \n",
       "4       5  31-Jul-18  Charcoal Fabric    \n",
       "\n",
       "                                    verified_reviews  feedback  \n",
       "0                                      Love my Echo!         1  \n",
       "1                                          Loved it!         1  \n",
       "2  Sometimes while playing a game, you can answer...         1  \n",
       "3  I have had a lot of fun with this thing. My 4 ...         1  \n",
       "4                                              Music         1  "
      ]
     },
     "execution_count": 3,
     "metadata": {},
     "output_type": "execute_result"
    }
   ],
   "source": [
    "df_alexa.head()"
   ]
  },
  {
   "cell_type": "code",
   "execution_count": 4,
   "metadata": {
    "colab": {
     "base_uri": "https://localhost:8080/",
     "height": 34
    },
    "colab_type": "code",
    "id": "I9IVTPDRJe5u",
    "outputId": "f0677f83-45a8-46e4-bd11-dabea5f5ec87"
   },
   "outputs": [
    {
     "data": {
      "text/plain": [
       "Index(['rating', 'date', 'variation', 'verified_reviews', 'feedback'], dtype='object')"
      ]
     },
     "execution_count": 4,
     "metadata": {},
     "output_type": "execute_result"
    }
   ],
   "source": [
    "df_alexa.keys()"
   ]
  },
  {
   "cell_type": "code",
   "execution_count": 5,
   "metadata": {
    "colab": {
     "base_uri": "https://localhost:8080/",
     "height": 195
    },
    "colab_type": "code",
    "id": "q6rwWikdJkCp",
    "outputId": "6e55aa3c-1b85-43ea-dde4-f32afa44bc54"
   },
   "outputs": [
    {
     "data": {
      "text/html": [
       "<div>\n",
       "<style scoped>\n",
       "    .dataframe tbody tr th:only-of-type {\n",
       "        vertical-align: middle;\n",
       "    }\n",
       "\n",
       "    .dataframe tbody tr th {\n",
       "        vertical-align: top;\n",
       "    }\n",
       "\n",
       "    .dataframe thead th {\n",
       "        text-align: right;\n",
       "    }\n",
       "</style>\n",
       "<table border=\"1\" class=\"dataframe\">\n",
       "  <thead>\n",
       "    <tr style=\"text-align: right;\">\n",
       "      <th></th>\n",
       "      <th>rating</th>\n",
       "      <th>date</th>\n",
       "      <th>variation</th>\n",
       "      <th>verified_reviews</th>\n",
       "      <th>feedback</th>\n",
       "    </tr>\n",
       "  </thead>\n",
       "  <tbody>\n",
       "    <tr>\n",
       "      <td>3145</td>\n",
       "      <td>5</td>\n",
       "      <td>30-Jul-18</td>\n",
       "      <td>Black  Dot</td>\n",
       "      <td>Perfect for kids, adults and everyone in betwe...</td>\n",
       "      <td>1</td>\n",
       "    </tr>\n",
       "    <tr>\n",
       "      <td>3146</td>\n",
       "      <td>5</td>\n",
       "      <td>30-Jul-18</td>\n",
       "      <td>Black  Dot</td>\n",
       "      <td>Listening to music, searching locations, check...</td>\n",
       "      <td>1</td>\n",
       "    </tr>\n",
       "    <tr>\n",
       "      <td>3147</td>\n",
       "      <td>5</td>\n",
       "      <td>30-Jul-18</td>\n",
       "      <td>Black  Dot</td>\n",
       "      <td>I do love these things, i have them running my...</td>\n",
       "      <td>1</td>\n",
       "    </tr>\n",
       "    <tr>\n",
       "      <td>3148</td>\n",
       "      <td>5</td>\n",
       "      <td>30-Jul-18</td>\n",
       "      <td>White  Dot</td>\n",
       "      <td>Only complaint I have is that the sound qualit...</td>\n",
       "      <td>1</td>\n",
       "    </tr>\n",
       "    <tr>\n",
       "      <td>3149</td>\n",
       "      <td>4</td>\n",
       "      <td>29-Jul-18</td>\n",
       "      <td>Black  Dot</td>\n",
       "      <td>Good</td>\n",
       "      <td>1</td>\n",
       "    </tr>\n",
       "  </tbody>\n",
       "</table>\n",
       "</div>"
      ],
      "text/plain": [
       "      rating       date   variation  \\\n",
       "3145       5  30-Jul-18  Black  Dot   \n",
       "3146       5  30-Jul-18  Black  Dot   \n",
       "3147       5  30-Jul-18  Black  Dot   \n",
       "3148       5  30-Jul-18  White  Dot   \n",
       "3149       4  29-Jul-18  Black  Dot   \n",
       "\n",
       "                                       verified_reviews  feedback  \n",
       "3145  Perfect for kids, adults and everyone in betwe...         1  \n",
       "3146  Listening to music, searching locations, check...         1  \n",
       "3147  I do love these things, i have them running my...         1  \n",
       "3148  Only complaint I have is that the sound qualit...         1  \n",
       "3149                                               Good         1  "
      ]
     },
     "execution_count": 5,
     "metadata": {},
     "output_type": "execute_result"
    }
   ],
   "source": [
    "df_alexa.tail()"
   ]
  },
  {
   "cell_type": "code",
   "execution_count": 6,
   "metadata": {
    "colab": {
     "base_uri": "https://localhost:8080/",
     "height": 218
    },
    "colab_type": "code",
    "id": "7tTDdfehJnLF",
    "outputId": "84ff31a9-5594-4eaa-82e5-9d899c1d7797"
   },
   "outputs": [
    {
     "data": {
      "text/plain": [
       "0                                           Love my Echo!\n",
       "1                                               Loved it!\n",
       "2       Sometimes while playing a game, you can answer...\n",
       "3       I have had a lot of fun with this thing. My 4 ...\n",
       "4                                                   Music\n",
       "                              ...                        \n",
       "3145    Perfect for kids, adults and everyone in betwe...\n",
       "3146    Listening to music, searching locations, check...\n",
       "3147    I do love these things, i have them running my...\n",
       "3148    Only complaint I have is that the sound qualit...\n",
       "3149                                                 Good\n",
       "Name: verified_reviews, Length: 3150, dtype: object"
      ]
     },
     "execution_count": 6,
     "metadata": {},
     "output_type": "execute_result"
    }
   ],
   "source": [
    "df_alexa['verified_reviews']"
   ]
  },
  {
   "cell_type": "markdown",
   "metadata": {
    "colab_type": "text",
    "id": "A_EOMSNVJybu"
   },
   "source": [
    "#VISUALIZE THE DATA"
   ]
  },
  {
   "cell_type": "code",
   "execution_count": 7,
   "metadata": {
    "colab": {},
    "colab_type": "code",
    "id": "lMGrl7PaJrMI"
   },
   "outputs": [],
   "source": [
    "positive = df_alexa[df_alexa['feedback']==1]"
   ]
  },
  {
   "cell_type": "code",
   "execution_count": 8,
   "metadata": {
    "colab": {},
    "colab_type": "code",
    "id": "jyZqgHRSJ3UE"
   },
   "outputs": [],
   "source": [
    "negative = df_alexa[df_alexa['feedback']==0]"
   ]
  },
  {
   "cell_type": "code",
   "execution_count": 9,
   "metadata": {
    "colab": {
     "base_uri": "https://localhost:8080/",
     "height": 402
    },
    "colab_type": "code",
    "id": "Bjj6t0mdKDks",
    "outputId": "c1dfc970-0004-44a0-831d-4851fa13e37a"
   },
   "outputs": [
    {
     "data": {
      "text/html": [
       "<div>\n",
       "<style scoped>\n",
       "    .dataframe tbody tr th:only-of-type {\n",
       "        vertical-align: middle;\n",
       "    }\n",
       "\n",
       "    .dataframe tbody tr th {\n",
       "        vertical-align: top;\n",
       "    }\n",
       "\n",
       "    .dataframe thead th {\n",
       "        text-align: right;\n",
       "    }\n",
       "</style>\n",
       "<table border=\"1\" class=\"dataframe\">\n",
       "  <thead>\n",
       "    <tr style=\"text-align: right;\">\n",
       "      <th></th>\n",
       "      <th>rating</th>\n",
       "      <th>date</th>\n",
       "      <th>variation</th>\n",
       "      <th>verified_reviews</th>\n",
       "      <th>feedback</th>\n",
       "    </tr>\n",
       "  </thead>\n",
       "  <tbody>\n",
       "    <tr>\n",
       "      <td>0</td>\n",
       "      <td>5</td>\n",
       "      <td>31-Jul-18</td>\n",
       "      <td>Charcoal Fabric</td>\n",
       "      <td>Love my Echo!</td>\n",
       "      <td>1</td>\n",
       "    </tr>\n",
       "    <tr>\n",
       "      <td>1</td>\n",
       "      <td>5</td>\n",
       "      <td>31-Jul-18</td>\n",
       "      <td>Charcoal Fabric</td>\n",
       "      <td>Loved it!</td>\n",
       "      <td>1</td>\n",
       "    </tr>\n",
       "    <tr>\n",
       "      <td>2</td>\n",
       "      <td>4</td>\n",
       "      <td>31-Jul-18</td>\n",
       "      <td>Walnut Finish</td>\n",
       "      <td>Sometimes while playing a game, you can answer...</td>\n",
       "      <td>1</td>\n",
       "    </tr>\n",
       "    <tr>\n",
       "      <td>3</td>\n",
       "      <td>5</td>\n",
       "      <td>31-Jul-18</td>\n",
       "      <td>Charcoal Fabric</td>\n",
       "      <td>I have had a lot of fun with this thing. My 4 ...</td>\n",
       "      <td>1</td>\n",
       "    </tr>\n",
       "    <tr>\n",
       "      <td>4</td>\n",
       "      <td>5</td>\n",
       "      <td>31-Jul-18</td>\n",
       "      <td>Charcoal Fabric</td>\n",
       "      <td>Music</td>\n",
       "      <td>1</td>\n",
       "    </tr>\n",
       "    <tr>\n",
       "      <td>...</td>\n",
       "      <td>...</td>\n",
       "      <td>...</td>\n",
       "      <td>...</td>\n",
       "      <td>...</td>\n",
       "      <td>...</td>\n",
       "    </tr>\n",
       "    <tr>\n",
       "      <td>3145</td>\n",
       "      <td>5</td>\n",
       "      <td>30-Jul-18</td>\n",
       "      <td>Black  Dot</td>\n",
       "      <td>Perfect for kids, adults and everyone in betwe...</td>\n",
       "      <td>1</td>\n",
       "    </tr>\n",
       "    <tr>\n",
       "      <td>3146</td>\n",
       "      <td>5</td>\n",
       "      <td>30-Jul-18</td>\n",
       "      <td>Black  Dot</td>\n",
       "      <td>Listening to music, searching locations, check...</td>\n",
       "      <td>1</td>\n",
       "    </tr>\n",
       "    <tr>\n",
       "      <td>3147</td>\n",
       "      <td>5</td>\n",
       "      <td>30-Jul-18</td>\n",
       "      <td>Black  Dot</td>\n",
       "      <td>I do love these things, i have them running my...</td>\n",
       "      <td>1</td>\n",
       "    </tr>\n",
       "    <tr>\n",
       "      <td>3148</td>\n",
       "      <td>5</td>\n",
       "      <td>30-Jul-18</td>\n",
       "      <td>White  Dot</td>\n",
       "      <td>Only complaint I have is that the sound qualit...</td>\n",
       "      <td>1</td>\n",
       "    </tr>\n",
       "    <tr>\n",
       "      <td>3149</td>\n",
       "      <td>4</td>\n",
       "      <td>29-Jul-18</td>\n",
       "      <td>Black  Dot</td>\n",
       "      <td>Good</td>\n",
       "      <td>1</td>\n",
       "    </tr>\n",
       "  </tbody>\n",
       "</table>\n",
       "<p>2893 rows × 5 columns</p>\n",
       "</div>"
      ],
      "text/plain": [
       "      rating       date         variation  \\\n",
       "0          5  31-Jul-18  Charcoal Fabric    \n",
       "1          5  31-Jul-18  Charcoal Fabric    \n",
       "2          4  31-Jul-18    Walnut Finish    \n",
       "3          5  31-Jul-18  Charcoal Fabric    \n",
       "4          5  31-Jul-18  Charcoal Fabric    \n",
       "...      ...        ...               ...   \n",
       "3145       5  30-Jul-18        Black  Dot   \n",
       "3146       5  30-Jul-18        Black  Dot   \n",
       "3147       5  30-Jul-18        Black  Dot   \n",
       "3148       5  30-Jul-18        White  Dot   \n",
       "3149       4  29-Jul-18        Black  Dot   \n",
       "\n",
       "                                       verified_reviews  feedback  \n",
       "0                                         Love my Echo!         1  \n",
       "1                                             Loved it!         1  \n",
       "2     Sometimes while playing a game, you can answer...         1  \n",
       "3     I have had a lot of fun with this thing. My 4 ...         1  \n",
       "4                                                 Music         1  \n",
       "...                                                 ...       ...  \n",
       "3145  Perfect for kids, adults and everyone in betwe...         1  \n",
       "3146  Listening to music, searching locations, check...         1  \n",
       "3147  I do love these things, i have them running my...         1  \n",
       "3148  Only complaint I have is that the sound qualit...         1  \n",
       "3149                                               Good         1  \n",
       "\n",
       "[2893 rows x 5 columns]"
      ]
     },
     "execution_count": 9,
     "metadata": {},
     "output_type": "execute_result"
    }
   ],
   "source": [
    "positive"
   ]
  },
  {
   "cell_type": "code",
   "execution_count": 10,
   "metadata": {
    "colab": {
     "base_uri": "https://localhost:8080/",
     "height": 402
    },
    "colab_type": "code",
    "id": "qAvs8mpqJ5ad",
    "outputId": "a456e6b5-db56-49b4-9767-47b5d53321b7"
   },
   "outputs": [
    {
     "data": {
      "text/html": [
       "<div>\n",
       "<style scoped>\n",
       "    .dataframe tbody tr th:only-of-type {\n",
       "        vertical-align: middle;\n",
       "    }\n",
       "\n",
       "    .dataframe tbody tr th {\n",
       "        vertical-align: top;\n",
       "    }\n",
       "\n",
       "    .dataframe thead th {\n",
       "        text-align: right;\n",
       "    }\n",
       "</style>\n",
       "<table border=\"1\" class=\"dataframe\">\n",
       "  <thead>\n",
       "    <tr style=\"text-align: right;\">\n",
       "      <th></th>\n",
       "      <th>rating</th>\n",
       "      <th>date</th>\n",
       "      <th>variation</th>\n",
       "      <th>verified_reviews</th>\n",
       "      <th>feedback</th>\n",
       "    </tr>\n",
       "  </thead>\n",
       "  <tbody>\n",
       "    <tr>\n",
       "      <td>46</td>\n",
       "      <td>2</td>\n",
       "      <td>30-Jul-18</td>\n",
       "      <td>Charcoal Fabric</td>\n",
       "      <td>It's like Siri, in fact, Siri answers more acc...</td>\n",
       "      <td>0</td>\n",
       "    </tr>\n",
       "    <tr>\n",
       "      <td>111</td>\n",
       "      <td>2</td>\n",
       "      <td>30-Jul-18</td>\n",
       "      <td>Charcoal Fabric</td>\n",
       "      <td>Sound is terrible if u want good music too get...</td>\n",
       "      <td>0</td>\n",
       "    </tr>\n",
       "    <tr>\n",
       "      <td>141</td>\n",
       "      <td>1</td>\n",
       "      <td>30-Jul-18</td>\n",
       "      <td>Charcoal Fabric</td>\n",
       "      <td>Not much features.</td>\n",
       "      <td>0</td>\n",
       "    </tr>\n",
       "    <tr>\n",
       "      <td>162</td>\n",
       "      <td>1</td>\n",
       "      <td>30-Jul-18</td>\n",
       "      <td>Sandstone Fabric</td>\n",
       "      <td>Stopped working after 2 weeks ,didn't follow c...</td>\n",
       "      <td>0</td>\n",
       "    </tr>\n",
       "    <tr>\n",
       "      <td>176</td>\n",
       "      <td>2</td>\n",
       "      <td>30-Jul-18</td>\n",
       "      <td>Heather Gray Fabric</td>\n",
       "      <td>Sad joke. Worthless.</td>\n",
       "      <td>0</td>\n",
       "    </tr>\n",
       "    <tr>\n",
       "      <td>...</td>\n",
       "      <td>...</td>\n",
       "      <td>...</td>\n",
       "      <td>...</td>\n",
       "      <td>...</td>\n",
       "      <td>...</td>\n",
       "    </tr>\n",
       "    <tr>\n",
       "      <td>3047</td>\n",
       "      <td>1</td>\n",
       "      <td>30-Jul-18</td>\n",
       "      <td>Black  Dot</td>\n",
       "      <td>Echo Dot responds to us when we aren't even ta...</td>\n",
       "      <td>0</td>\n",
       "    </tr>\n",
       "    <tr>\n",
       "      <td>3048</td>\n",
       "      <td>1</td>\n",
       "      <td>30-Jul-18</td>\n",
       "      <td>White  Dot</td>\n",
       "      <td>NOT CONNECTED TO MY PHONE PLAYLIST :(</td>\n",
       "      <td>0</td>\n",
       "    </tr>\n",
       "    <tr>\n",
       "      <td>3067</td>\n",
       "      <td>2</td>\n",
       "      <td>30-Jul-18</td>\n",
       "      <td>Black  Dot</td>\n",
       "      <td>The only negative we have on this product is t...</td>\n",
       "      <td>0</td>\n",
       "    </tr>\n",
       "    <tr>\n",
       "      <td>3091</td>\n",
       "      <td>1</td>\n",
       "      <td>30-Jul-18</td>\n",
       "      <td>Black  Dot</td>\n",
       "      <td>I didn’t order it</td>\n",
       "      <td>0</td>\n",
       "    </tr>\n",
       "    <tr>\n",
       "      <td>3096</td>\n",
       "      <td>1</td>\n",
       "      <td>30-Jul-18</td>\n",
       "      <td>White  Dot</td>\n",
       "      <td>The product sounded the same as the emoji spea...</td>\n",
       "      <td>0</td>\n",
       "    </tr>\n",
       "  </tbody>\n",
       "</table>\n",
       "<p>257 rows × 5 columns</p>\n",
       "</div>"
      ],
      "text/plain": [
       "      rating       date             variation  \\\n",
       "46         2  30-Jul-18      Charcoal Fabric    \n",
       "111        2  30-Jul-18      Charcoal Fabric    \n",
       "141        1  30-Jul-18      Charcoal Fabric    \n",
       "162        1  30-Jul-18     Sandstone Fabric    \n",
       "176        2  30-Jul-18  Heather Gray Fabric    \n",
       "...      ...        ...                   ...   \n",
       "3047       1  30-Jul-18            Black  Dot   \n",
       "3048       1  30-Jul-18            White  Dot   \n",
       "3067       2  30-Jul-18            Black  Dot   \n",
       "3091       1  30-Jul-18            Black  Dot   \n",
       "3096       1  30-Jul-18            White  Dot   \n",
       "\n",
       "                                       verified_reviews  feedback  \n",
       "46    It's like Siri, in fact, Siri answers more acc...         0  \n",
       "111   Sound is terrible if u want good music too get...         0  \n",
       "141                                  Not much features.         0  \n",
       "162   Stopped working after 2 weeks ,didn't follow c...         0  \n",
       "176                                Sad joke. Worthless.         0  \n",
       "...                                                 ...       ...  \n",
       "3047  Echo Dot responds to us when we aren't even ta...         0  \n",
       "3048              NOT CONNECTED TO MY PHONE PLAYLIST :(         0  \n",
       "3067  The only negative we have on this product is t...         0  \n",
       "3091                                  I didn’t order it         0  \n",
       "3096  The product sounded the same as the emoji spea...         0  \n",
       "\n",
       "[257 rows x 5 columns]"
      ]
     },
     "execution_count": 10,
     "metadata": {},
     "output_type": "execute_result"
    }
   ],
   "source": [
    "negative"
   ]
  },
  {
   "cell_type": "code",
   "execution_count": 11,
   "metadata": {
    "colab": {
     "base_uri": "https://localhost:8080/",
     "height": 298
    },
    "colab_type": "code",
    "id": "CQzFU4O8KCkm",
    "outputId": "e1c0b12e-ed31-40c1-cce0-aae2b45be635"
   },
   "outputs": [
    {
     "data": {
      "text/plain": [
       "<matplotlib.axes._subplots.AxesSubplot at 0x1d4f3bf6d08>"
      ]
     },
     "execution_count": 11,
     "metadata": {},
     "output_type": "execute_result"
    },
    {
     "data": {
      "image/png": "[encoded data removed]",
      "text/plain": [
       "<Figure size 432x288 with 1 Axes>"
      ]
     },
     "metadata": {
      "needs_background": "light"
     },
     "output_type": "display_data"
    }
   ],
   "source": [
    "sns.countplot(df_alexa['feedback'], label = \"Count\") "
   ]
  },
  {
   "cell_type": "code",
   "execution_count": 12,
   "metadata": {
    "colab": {
     "base_uri": "https://localhost:8080/",
     "height": 296
    },
    "colab_type": "code",
    "id": "Ditsxl_HKH3k",
    "outputId": "2325b93f-fc65-40ad-e3cc-04bf5475fbc2"
   },
   "outputs": [
    {
     "data": {
      "text/plain": [
       "<matplotlib.axes._subplots.AxesSubplot at 0x1d4f3f742c8>"
      ]
     },
     "execution_count": 12,
     "metadata": {},
     "output_type": "execute_result"
    },
    {
     "data": {
      "image/png": "[encoded data removed]",
      "text/plain": [
       "<Figure size 432x288 with 1 Axes>"
      ]
     },
     "metadata": {
      "needs_background": "light"
     },
     "output_type": "display_data"
    }
   ],
   "source": [
    "sns.countplot(x = 'rating', data = df_alexa)"
   ]
  },
  {
   "cell_type": "code",
   "execution_count": 13,
   "metadata": {
    "colab": {
     "base_uri": "https://localhost:8080/",
     "height": 914
    },
    "colab_type": "code",
    "id": "28gVSW5aKSqz",
    "outputId": "62df5b6f-413a-4fe9-c3c0-41a9d66470f0"
   },
   "outputs": [
    {
     "data": {
      "text/plain": [
       "<matplotlib.axes._subplots.AxesSubplot at 0x1d4f40099c8>"
      ]
     },
     "execution_count": 13,
     "metadata": {},
     "output_type": "execute_result"
    },
    {
     "data": {
      "image/png": "[encoded data removed]",
      "text/plain": [
       "<Figure size 2880x1080 with 1 Axes>"
      ]
     },
     "metadata": {
      "needs_background": "light"
     },
     "output_type": "display_data"
    }
   ],
   "source": [
    "plt.figure(figsize = (40,15))\n",
    "sns.barplot(x = 'variation', y='rating', data=df_alexa, palette = 'deep')\n",
    "# average ratings categorized by product type"
   ]
  },
  {
   "cell_type": "markdown",
   "metadata": {
    "colab_type": "text",
    "id": "ckucHWlAKfl6"
   },
   "source": [
    "#DATA CLEANING/FEATURE ENGINEERING"
   ]
  },
  {
   "cell_type": "code",
   "execution_count": 14,
   "metadata": {
    "colab": {},
    "colab_type": "code",
    "id": "hbtisRUKKYG8"
   },
   "outputs": [],
   "source": [
    "df_alexa = df_alexa.drop(['date', 'rating'],axis=1)"
   ]
  },
  {
   "cell_type": "code",
   "execution_count": 15,
   "metadata": {
    "colab": {},
    "colab_type": "code",
    "id": "fsbPQo35Kka8"
   },
   "outputs": [],
   "source": [
    "variation_dummies = pd.get_dummies(df_alexa['variation'], drop_first = True)"
   ]
  },
  {
   "cell_type": "code",
   "execution_count": 16,
   "metadata": {
    "colab": {
     "base_uri": "https://localhost:8080/",
     "height": 418
    },
    "colab_type": "code",
    "id": "sXnCMWa7O30M",
    "outputId": "62f65b2c-f50f-4566-bab3-aa49f5ac273d"
   },
   "outputs": [
    {
     "data": {
      "text/html": [
       "<div>\n",
       "<style scoped>\n",
       "    .dataframe tbody tr th:only-of-type {\n",
       "        vertical-align: middle;\n",
       "    }\n",
       "\n",
       "    .dataframe tbody tr th {\n",
       "        vertical-align: top;\n",
       "    }\n",
       "\n",
       "    .dataframe thead th {\n",
       "        text-align: right;\n",
       "    }\n",
       "</style>\n",
       "<table border=\"1\" class=\"dataframe\">\n",
       "  <thead>\n",
       "    <tr style=\"text-align: right;\">\n",
       "      <th></th>\n",
       "      <th>Black  Dot</th>\n",
       "      <th>Black  Plus</th>\n",
       "      <th>Black  Show</th>\n",
       "      <th>Black  Spot</th>\n",
       "      <th>Charcoal Fabric</th>\n",
       "      <th>Configuration: Fire TV Stick</th>\n",
       "      <th>Heather Gray Fabric</th>\n",
       "      <th>Oak Finish</th>\n",
       "      <th>Sandstone Fabric</th>\n",
       "      <th>Walnut Finish</th>\n",
       "      <th>White</th>\n",
       "      <th>White  Dot</th>\n",
       "      <th>White  Plus</th>\n",
       "      <th>White  Show</th>\n",
       "      <th>White  Spot</th>\n",
       "    </tr>\n",
       "  </thead>\n",
       "  <tbody>\n",
       "    <tr>\n",
       "      <td>0</td>\n",
       "      <td>0</td>\n",
       "      <td>0</td>\n",
       "      <td>0</td>\n",
       "      <td>0</td>\n",
       "      <td>1</td>\n",
       "      <td>0</td>\n",
       "      <td>0</td>\n",
       "      <td>0</td>\n",
       "      <td>0</td>\n",
       "      <td>0</td>\n",
       "      <td>0</td>\n",
       "      <td>0</td>\n",
       "      <td>0</td>\n",
       "      <td>0</td>\n",
       "      <td>0</td>\n",
       "    </tr>\n",
       "    <tr>\n",
       "      <td>1</td>\n",
       "      <td>0</td>\n",
       "      <td>0</td>\n",
       "      <td>0</td>\n",
       "      <td>0</td>\n",
       "      <td>1</td>\n",
       "      <td>0</td>\n",
       "      <td>0</td>\n",
       "      <td>0</td>\n",
       "      <td>0</td>\n",
       "      <td>0</td>\n",
       "      <td>0</td>\n",
       "      <td>0</td>\n",
       "      <td>0</td>\n",
       "      <td>0</td>\n",
       "      <td>0</td>\n",
       "    </tr>\n",
       "    <tr>\n",
       "      <td>2</td>\n",
       "      <td>0</td>\n",
       "      <td>0</td>\n",
       "      <td>0</td>\n",
       "      <td>0</td>\n",
       "      <td>0</td>\n",
       "      <td>0</td>\n",
       "      <td>0</td>\n",
       "      <td>0</td>\n",
       "      <td>0</td>\n",
       "      <td>1</td>\n",
       "      <td>0</td>\n",
       "      <td>0</td>\n",
       "      <td>0</td>\n",
       "      <td>0</td>\n",
       "      <td>0</td>\n",
       "    </tr>\n",
       "    <tr>\n",
       "      <td>3</td>\n",
       "      <td>0</td>\n",
       "      <td>0</td>\n",
       "      <td>0</td>\n",
       "      <td>0</td>\n",
       "      <td>1</td>\n",
       "      <td>0</td>\n",
       "      <td>0</td>\n",
       "      <td>0</td>\n",
       "      <td>0</td>\n",
       "      <td>0</td>\n",
       "      <td>0</td>\n",
       "      <td>0</td>\n",
       "      <td>0</td>\n",
       "      <td>0</td>\n",
       "      <td>0</td>\n",
       "    </tr>\n",
       "    <tr>\n",
       "      <td>4</td>\n",
       "      <td>0</td>\n",
       "      <td>0</td>\n",
       "      <td>0</td>\n",
       "      <td>0</td>\n",
       "      <td>1</td>\n",
       "      <td>0</td>\n",
       "      <td>0</td>\n",
       "      <td>0</td>\n",
       "      <td>0</td>\n",
       "      <td>0</td>\n",
       "      <td>0</td>\n",
       "      <td>0</td>\n",
       "      <td>0</td>\n",
       "      <td>0</td>\n",
       "      <td>0</td>\n",
       "    </tr>\n",
       "    <tr>\n",
       "      <td>...</td>\n",
       "      <td>...</td>\n",
       "      <td>...</td>\n",
       "      <td>...</td>\n",
       "      <td>...</td>\n",
       "      <td>...</td>\n",
       "      <td>...</td>\n",
       "      <td>...</td>\n",
       "      <td>...</td>\n",
       "      <td>...</td>\n",
       "      <td>...</td>\n",
       "      <td>...</td>\n",
       "      <td>...</td>\n",
       "      <td>...</td>\n",
       "      <td>...</td>\n",
       "      <td>...</td>\n",
       "    </tr>\n",
       "    <tr>\n",
       "      <td>3145</td>\n",
       "      <td>1</td>\n",
       "      <td>0</td>\n",
       "      <td>0</td>\n",
       "      <td>0</td>\n",
       "      <td>0</td>\n",
       "      <td>0</td>\n",
       "      <td>0</td>\n",
       "      <td>0</td>\n",
       "      <td>0</td>\n",
       "      <td>0</td>\n",
       "      <td>0</td>\n",
       "      <td>0</td>\n",
       "      <td>0</td>\n",
       "      <td>0</td>\n",
       "      <td>0</td>\n",
       "    </tr>\n",
       "    <tr>\n",
       "      <td>3146</td>\n",
       "      <td>1</td>\n",
       "      <td>0</td>\n",
       "      <td>0</td>\n",
       "      <td>0</td>\n",
       "      <td>0</td>\n",
       "      <td>0</td>\n",
       "      <td>0</td>\n",
       "      <td>0</td>\n",
       "      <td>0</td>\n",
       "      <td>0</td>\n",
       "      <td>0</td>\n",
       "      <td>0</td>\n",
       "      <td>0</td>\n",
       "      <td>0</td>\n",
       "      <td>0</td>\n",
       "    </tr>\n",
       "    <tr>\n",
       "      <td>3147</td>\n",
       "      <td>1</td>\n",
       "      <td>0</td>\n",
       "      <td>0</td>\n",
       "      <td>0</td>\n",
       "      <td>0</td>\n",
       "      <td>0</td>\n",
       "      <td>0</td>\n",
       "      <td>0</td>\n",
       "      <td>0</td>\n",
       "      <td>0</td>\n",
       "      <td>0</td>\n",
       "      <td>0</td>\n",
       "      <td>0</td>\n",
       "      <td>0</td>\n",
       "      <td>0</td>\n",
       "    </tr>\n",
       "    <tr>\n",
       "      <td>3148</td>\n",
       "      <td>0</td>\n",
       "      <td>0</td>\n",
       "      <td>0</td>\n",
       "      <td>0</td>\n",
       "      <td>0</td>\n",
       "      <td>0</td>\n",
       "      <td>0</td>\n",
       "      <td>0</td>\n",
       "      <td>0</td>\n",
       "      <td>0</td>\n",
       "      <td>0</td>\n",
       "      <td>1</td>\n",
       "      <td>0</td>\n",
       "      <td>0</td>\n",
       "      <td>0</td>\n",
       "    </tr>\n",
       "    <tr>\n",
       "      <td>3149</td>\n",
       "      <td>1</td>\n",
       "      <td>0</td>\n",
       "      <td>0</td>\n",
       "      <td>0</td>\n",
       "      <td>0</td>\n",
       "      <td>0</td>\n",
       "      <td>0</td>\n",
       "      <td>0</td>\n",
       "      <td>0</td>\n",
       "      <td>0</td>\n",
       "      <td>0</td>\n",
       "      <td>0</td>\n",
       "      <td>0</td>\n",
       "      <td>0</td>\n",
       "      <td>0</td>\n",
       "    </tr>\n",
       "  </tbody>\n",
       "</table>\n",
       "<p>3150 rows × 15 columns</p>\n",
       "</div>"
      ],
      "text/plain": [
       "      Black  Dot  Black  Plus  Black  Show  Black  Spot  Charcoal Fabric   \\\n",
       "0              0            0            0            0                 1   \n",
       "1              0            0            0            0                 1   \n",
       "2              0            0            0            0                 0   \n",
       "3              0            0            0            0                 1   \n",
       "4              0            0            0            0                 1   \n",
       "...          ...          ...          ...          ...               ...   \n",
       "3145           1            0            0            0                 0   \n",
       "3146           1            0            0            0                 0   \n",
       "3147           1            0            0            0                 0   \n",
       "3148           0            0            0            0                 0   \n",
       "3149           1            0            0            0                 0   \n",
       "\n",
       "      Configuration: Fire TV Stick  Heather Gray Fabric   Oak Finish   \\\n",
       "0                                0                     0            0   \n",
       "1                                0                     0            0   \n",
       "2                                0                     0            0   \n",
       "3                                0                     0            0   \n",
       "4                                0                     0            0   \n",
       "...                            ...                   ...          ...   \n",
       "3145                             0                     0            0   \n",
       "3146                             0                     0            0   \n",
       "3147                             0                     0            0   \n",
       "3148                             0                     0            0   \n",
       "3149                             0                     0            0   \n",
       "\n",
       "      Sandstone Fabric   Walnut Finish   White  White  Dot  White  Plus  \\\n",
       "0                     0               0      0           0            0   \n",
       "1                     0               0      0           0            0   \n",
       "2                     0               1      0           0            0   \n",
       "3                     0               0      0           0            0   \n",
       "4                     0               0      0           0            0   \n",
       "...                 ...             ...    ...         ...          ...   \n",
       "3145                  0               0      0           0            0   \n",
       "3146                  0               0      0           0            0   \n",
       "3147                  0               0      0           0            0   \n",
       "3148                  0               0      0           1            0   \n",
       "3149                  0               0      0           0            0   \n",
       "\n",
       "      White  Show  White  Spot  \n",
       "0               0            0  \n",
       "1               0            0  \n",
       "2               0            0  \n",
       "3               0            0  \n",
       "4               0            0  \n",
       "...           ...          ...  \n",
       "3145            0            0  \n",
       "3146            0            0  \n",
       "3147            0            0  \n",
       "3148            0            0  \n",
       "3149            0            0  \n",
       "\n",
       "[3150 rows x 15 columns]"
      ]
     },
     "execution_count": 16,
     "metadata": {},
     "output_type": "execute_result"
    }
   ],
   "source": [
    "variation_dummies"
   ]
  },
  {
   "cell_type": "code",
   "execution_count": 17,
   "metadata": {
    "colab": {},
    "colab_type": "code",
    "id": "pVCC9oQvO5nv"
   },
   "outputs": [],
   "source": [
    "df_alexa.drop(['variation'], axis=1, inplace=True)"
   ]
  },
  {
   "cell_type": "code",
   "execution_count": 18,
   "metadata": {
    "colab": {},
    "colab_type": "code",
    "id": "-Q8DqpaNPRtd"
   },
   "outputs": [],
   "source": [
    "df_alexa = pd.concat([df_alexa, variation_dummies], axis=1)"
   ]
  },
  {
   "cell_type": "code",
   "execution_count": 19,
   "metadata": {
    "colab": {
     "base_uri": "https://localhost:8080/",
     "height": 316
    },
    "colab_type": "code",
    "id": "GbHF0d92PTan",
    "outputId": "fca9bca0-ae0d-4c67-851b-786517f4c211"
   },
   "outputs": [
    {
     "data": {
      "text/html": [
       "<div>\n",
       "<style scoped>\n",
       "    .dataframe tbody tr th:only-of-type {\n",
       "        vertical-align: middle;\n",
       "    }\n",
       "\n",
       "    .dataframe tbody tr th {\n",
       "        vertical-align: top;\n",
       "    }\n",
       "\n",
       "    .dataframe thead th {\n",
       "        text-align: right;\n",
       "    }\n",
       "</style>\n",
       "<table border=\"1\" class=\"dataframe\">\n",
       "  <thead>\n",
       "    <tr style=\"text-align: right;\">\n",
       "      <th></th>\n",
       "      <th>verified_reviews</th>\n",
       "      <th>feedback</th>\n",
       "      <th>Black  Dot</th>\n",
       "      <th>Black  Plus</th>\n",
       "      <th>Black  Show</th>\n",
       "      <th>Black  Spot</th>\n",
       "      <th>Charcoal Fabric</th>\n",
       "      <th>Configuration: Fire TV Stick</th>\n",
       "      <th>Heather Gray Fabric</th>\n",
       "      <th>Oak Finish</th>\n",
       "      <th>Sandstone Fabric</th>\n",
       "      <th>Walnut Finish</th>\n",
       "      <th>White</th>\n",
       "      <th>White  Dot</th>\n",
       "      <th>White  Plus</th>\n",
       "      <th>White  Show</th>\n",
       "      <th>White  Spot</th>\n",
       "    </tr>\n",
       "  </thead>\n",
       "  <tbody>\n",
       "    <tr>\n",
       "      <td>0</td>\n",
       "      <td>Love my Echo!</td>\n",
       "      <td>1</td>\n",
       "      <td>0</td>\n",
       "      <td>0</td>\n",
       "      <td>0</td>\n",
       "      <td>0</td>\n",
       "      <td>1</td>\n",
       "      <td>0</td>\n",
       "      <td>0</td>\n",
       "      <td>0</td>\n",
       "      <td>0</td>\n",
       "      <td>0</td>\n",
       "      <td>0</td>\n",
       "      <td>0</td>\n",
       "      <td>0</td>\n",
       "      <td>0</td>\n",
       "      <td>0</td>\n",
       "    </tr>\n",
       "    <tr>\n",
       "      <td>1</td>\n",
       "      <td>Loved it!</td>\n",
       "      <td>1</td>\n",
       "      <td>0</td>\n",
       "      <td>0</td>\n",
       "      <td>0</td>\n",
       "      <td>0</td>\n",
       "      <td>1</td>\n",
       "      <td>0</td>\n",
       "      <td>0</td>\n",
       "      <td>0</td>\n",
       "      <td>0</td>\n",
       "      <td>0</td>\n",
       "      <td>0</td>\n",
       "      <td>0</td>\n",
       "      <td>0</td>\n",
       "      <td>0</td>\n",
       "      <td>0</td>\n",
       "    </tr>\n",
       "    <tr>\n",
       "      <td>2</td>\n",
       "      <td>Sometimes while playing a game, you can answer...</td>\n",
       "      <td>1</td>\n",
       "      <td>0</td>\n",
       "      <td>0</td>\n",
       "      <td>0</td>\n",
       "      <td>0</td>\n",
       "      <td>0</td>\n",
       "      <td>0</td>\n",
       "      <td>0</td>\n",
       "      <td>0</td>\n",
       "      <td>0</td>\n",
       "      <td>1</td>\n",
       "      <td>0</td>\n",
       "      <td>0</td>\n",
       "      <td>0</td>\n",
       "      <td>0</td>\n",
       "      <td>0</td>\n",
       "    </tr>\n",
       "    <tr>\n",
       "      <td>3</td>\n",
       "      <td>I have had a lot of fun with this thing. My 4 ...</td>\n",
       "      <td>1</td>\n",
       "      <td>0</td>\n",
       "      <td>0</td>\n",
       "      <td>0</td>\n",
       "      <td>0</td>\n",
       "      <td>1</td>\n",
       "      <td>0</td>\n",
       "      <td>0</td>\n",
       "      <td>0</td>\n",
       "      <td>0</td>\n",
       "      <td>0</td>\n",
       "      <td>0</td>\n",
       "      <td>0</td>\n",
       "      <td>0</td>\n",
       "      <td>0</td>\n",
       "      <td>0</td>\n",
       "    </tr>\n",
       "    <tr>\n",
       "      <td>4</td>\n",
       "      <td>Music</td>\n",
       "      <td>1</td>\n",
       "      <td>0</td>\n",
       "      <td>0</td>\n",
       "      <td>0</td>\n",
       "      <td>0</td>\n",
       "      <td>1</td>\n",
       "      <td>0</td>\n",
       "      <td>0</td>\n",
       "      <td>0</td>\n",
       "      <td>0</td>\n",
       "      <td>0</td>\n",
       "      <td>0</td>\n",
       "      <td>0</td>\n",
       "      <td>0</td>\n",
       "      <td>0</td>\n",
       "      <td>0</td>\n",
       "    </tr>\n",
       "  </tbody>\n",
       "</table>\n",
       "</div>"
      ],
      "text/plain": [
       "                                    verified_reviews  feedback  Black  Dot  \\\n",
       "0                                      Love my Echo!         1           0   \n",
       "1                                          Loved it!         1           0   \n",
       "2  Sometimes while playing a game, you can answer...         1           0   \n",
       "3  I have had a lot of fun with this thing. My 4 ...         1           0   \n",
       "4                                              Music         1           0   \n",
       "\n",
       "   Black  Plus  Black  Show  Black  Spot  Charcoal Fabric   \\\n",
       "0            0            0            0                 1   \n",
       "1            0            0            0                 1   \n",
       "2            0            0            0                 0   \n",
       "3            0            0            0                 1   \n",
       "4            0            0            0                 1   \n",
       "\n",
       "   Configuration: Fire TV Stick  Heather Gray Fabric   Oak Finish   \\\n",
       "0                             0                     0            0   \n",
       "1                             0                     0            0   \n",
       "2                             0                     0            0   \n",
       "3                             0                     0            0   \n",
       "4                             0                     0            0   \n",
       "\n",
       "   Sandstone Fabric   Walnut Finish   White  White  Dot  White  Plus  \\\n",
       "0                  0               0      0           0            0   \n",
       "1                  0               0      0           0            0   \n",
       "2                  0               1      0           0            0   \n",
       "3                  0               0      0           0            0   \n",
       "4                  0               0      0           0            0   \n",
       "\n",
       "   White  Show  White  Spot  \n",
       "0            0            0  \n",
       "1            0            0  \n",
       "2            0            0  \n",
       "3            0            0  \n",
       "4            0            0  "
      ]
     },
     "execution_count": 19,
     "metadata": {},
     "output_type": "execute_result"
    }
   ],
   "source": [
    "df_alexa.head()"
   ]
  },
  {
   "cell_type": "code",
   "execution_count": 20,
   "metadata": {
    "colab": {},
    "colab_type": "code",
    "id": "Qs1vGiKePV60"
   },
   "outputs": [],
   "source": [
    "from sklearn.feature_extraction.text import CountVectorizer\n",
    "vectorizer = CountVectorizer()\n",
    "alexa_countvectorizer = vectorizer.fit_transform(df_alexa['verified_reviews'])"
   ]
  },
  {
   "cell_type": "code",
   "execution_count": 21,
   "metadata": {
    "colab": {
     "base_uri": "https://localhost:8080/",
     "height": 34
    },
    "colab_type": "code",
    "id": "3gsd2f-5PcsI",
    "outputId": "5dc437ba-d67e-43c7-e5f2-435c1b2d92b6"
   },
   "outputs": [
    {
     "data": {
      "text/plain": [
       "(3150, 4044)"
      ]
     },
     "execution_count": 21,
     "metadata": {},
     "output_type": "execute_result"
    }
   ],
   "source": [
    "alexa_countvectorizer.shape"
   ]
  },
  {
   "cell_type": "code",
   "execution_count": 22,
   "metadata": {
    "colab": {
     "base_uri": "https://localhost:8080/",
     "height": 34
    },
    "colab_type": "code",
    "id": "9j9magYrPg0a",
    "outputId": "a26c88ff-b1c5-4281-d50d-b89c11167779"
   },
   "outputs": [
    {
     "data": {
      "text/plain": [
       "scipy.sparse.csr.csr_matrix"
      ]
     },
     "execution_count": 22,
     "metadata": {},
     "output_type": "execute_result"
    }
   ],
   "source": [
    "type(alexa_countvectorizer)"
   ]
  },
  {
   "cell_type": "code",
   "execution_count": 23,
   "metadata": {
    "colab": {
     "base_uri": "https://localhost:8080/",
     "height": 54
    },
    "colab_type": "code",
    "id": "8AuV_pVUPoa4",
    "outputId": "d3bc708a-4363-45c9-ec62-18c06a4941de"
   },
   "outputs": [
    {
     "name": "stdout",
     "output_type": "stream",
     "text": [
      "['00', '000', '07', '10', '100', '100x', '11', '1100sf', '12', '129', '12am', '15', '150', '18', '19', '1964', '1990', '1gb', '1rst', '1st', '20', '200', '2000', '2017', '229', '23', '24', '25', '29', '2nd', '2package', '30', '300', '30pm', '34', '360', '39', '3rd', '3x', '3xs', '40', '45', '48', '4am', '4ghz', '4k', '4th', '50', '54', '5am', '5ghz', '5th', '600', '62', '672', '6th', '70', '75', '79', '80', '80s', '81', '83', '85', '88', '888', '8gb', '90', '91', '911', '99', '_specifically_', 'a1', 'a19', 'abay', 'abc', 'abd', 'abilities', 'ability', 'able', 'abode', 'about', 'above', 'absolutely', 'absolutly', 'ac', 'accent', 'acceptable', 'accepting', 'access', 'accessable', 'accessible', 'accessing', 'accessories', 'accesss', 'accident', 'accidentally', 'accompanying', 'accomplish', 'accomplished', 'according', 'accordingly', 'account', 'accounts', 'accuracy', 'accurate', 'accurately', 'accustom', 'acknowledge', 'acoustical', 'across', 'act', 'acting', 'action', 'actions', 'activate', 'activated', 'activates', 'activating', 'activation', 'actively', 'activities', 'acts', 'actually', 'ad', 'adapted', 'adapter', 'adapting', 'add', 'added', 'addict', 'addicted', 'addicts', 'adding', 'addition', 'additional', 'additionally', 'addons', 'addressed', 'addresses', 'adds', 'adept', 'adequate', 'adjacent', 'adjust', 'adjusting', 'adjustment', 'adjusts', 'admit', 'adopters', 'adorable', 'ads', 'adults', 'advance', 'advanced', 'advantage', 'advantages', 'advertise', 'advertised', 'advertisement', 'advertising', 'advice', 'advise', 'advised', 'aesthetic', 'af', 'affirm', 'affirmations', 'afford', 'affordable', 'afraid', 'after', 'afternoon', 'afterwards', 'again', 'age', 'agent', 'ages', 'ago', 'agree', 'agreement', 'ahead', 'ai', 'aide', 'aint', 'air', 'aka', 'al', 'alabama', 'alarm', 'alarms', 'albeit', 'alcohol', 'alert', 'alerts', 'alex', 'alexa', 'alexas', 'alexi', 'alexia', 'alexis', 'alexus', 'algo', 'alive', 'all', 'alleviate', 'allow', 'allowed', 'allowing', 'allows', 'allrecipes', 'almost', 'alone', 'along', 'alongside', 'alot', 'alots', 'aloud', 'alread', 'already', 'alright', 'also', 'altering', 'alternative', 'alternatives', 'although', 'always', 'am', 'amaonmazing', 'amaxing', 'amaze', 'amazed', 'amazin', 'amazing', 'amazingly', 'amazon', 'amazonia', 'amazons', 'ambient', 'american', 'americans', 'among', 'amount', 'amounts', 'amozon', 'amplifier', 'amused', 'amusing', 'an', 'analog', 'and', 'android', 'ands', 'angle', 'annoying', 'another', 'answer', 'answered', 'answering', 'answers', 'ant', 'anti', 'anticipate', 'anticipated', 'any', 'anybody', 'anyhow', 'anylist', 'anymore', 'anyone', 'anypod', 'anything', 'anytime', 'anyway', 'anyways', 'anywhere', 'apartment', 'app', 'apparent', 'apparently', 'appealing', 'appear', 'appears', 'apple', 'appliance', 'appliances', 'application', 'applications', 'appointments', 'appreciated', 'apprehensive', 'approaching', 'appropriate', 'approximately', 'apps', 'are', 'area', 'areas', 'aren', 'arent', 'argue', 'argument', 'arguments', 'arises', 'arlo', 'arm', 'around', 'array', 'arrive', 'arrived', 'arriving', 'articles', 'artist', 'artists', 'as', 'asap', 'ase', 'ask', 'asked', 'askes', 'asking', 'asleep', 'aspect', 'aspects', 'ass', 'assigned', 'assist', 'assistance', 'assistant', 'assume', 'assumed', 'assuming', 'assumption', 'at', 'atención', 'atmosphere', 'atrás', 'attach', 'attached', 'attachment', 'attempt', 'attempted', 'attempting', 'attention', 'attractive', 'audible', 'audibles', 'audio', 'audioapple', 'audiobook', 'audiobooks', 'audiophile', 'august', 'aunt', 'auto', 'automatic', 'automatically', 'automation', 'aux', 'auxiliary', 'av', 'avail', 'availability', 'available', 'avoid', 'awake', 'aware', 'away', 'awesome', 'awful', 'awhile', 'awkward', 'awsome', 'b073sqyxtw', 'baby', 'back', 'background', 'backgrounds', 'backyard', 'bad', 'baffle', 'baffled', 'ball', 'ban', 'band', 'bandwagon', 'bandwidth', 'bang', 'bar', 'bare', 'barely', 'bargain', 'bark', 'barn', 'barret', 'barry', 'base', 'baseball', 'based', 'basement', 'basic', 'basically', 'bass', 'bathroom', 'bathrooms', 'batman', 'batteries', 'battery', 'bc', 'be', 'beam', 'beat', 'beautiful', 'beautifully', 'beauty', 'became', 'because', 'becausse', 'become', 'becomes', 'becoming', 'bed', 'bedroom', 'bedrooms', 'bedside', 'bedtime', 'beefy', 'been', 'before', 'begin', 'beginners', 'beginning', 'begun', 'behaved', 'behind', 'being', 'believe', 'believer', 'bells', 'belong', 'below', 'benefit', 'benefits', 'beside', 'besides', 'best', 'bet', 'beta', 'better', 'bettter', 'between', 'beyond', 'bezel', 'bezos', 'bf', 'bff', 'bible', 'big', 'bigger', 'biggest', 'bill', 'billboard', 'bills', 'bing', 'birth', 'birthday', 'bit', 'bizarre', 'black', 'blanket', 'blast', 'blasting', 'blessing', 'blind', 'blink', 'blinks', 'blocking', 'bloods', 'bloomberg', 'blown', 'blows', 'blue', 'blueprints', 'bluetooth', 'blurring', 'board', 'boat', 'bob', 'body', 'bolt', 'bonkers', 'bonus', 'book', 'books', 'boom', 'boombox', 'booming', 'boost', 'boring', 'born', 'bose', 'boss', 'bot', 'both', 'bother', 'bothered', 'bothers', 'bothersome', 'bottom', 'bough', 'bought', 'box', 'boyfriend', 'brainer', 'brand', 'brandnew', 'brands', 'bread', 'break', 'breakfast', 'breeze', 'bridge', 'brief', 'briefing', 'briefings', 'briefs', 'bright', 'brightness', 'bring', 'bringing', 'british', 'broadway', 'broke', 'broken', 'brought', 'bt', 'bucks', 'buddies', 'budget', 'buffer', 'buffering', 'buffet', 'bug', 'bugging', 'bugs', 'build', 'building', 'built', 'bulb', 'bulbs', 'buld', 'bulky', 'bummed', 'bunch', 'bundle', 'bundled', 'burns', 'business', 'busy', 'but', 'buts', 'button', 'buttons', 'buy', 'buyer', 'buyers', 'buying', 'buys', 'buzzing', 'by', 'bye', 'cable', 'calendar', 'calendars', 'call', 'called', 'calling', 'calls', 'calm', 'calmer', 'cam', 'cambiar', 'came', 'camelot', 'camera', 'cameras', 'campus', 'cams', 'can', 'canary', 'cancel', 'canceling', 'cancelled', 'cancels', 'cannot', 'cant', 'capabilities', 'capability', 'capable', 'capacity', 'capasity', 'car', 'card', 'cards', 'cardsrotate', 'care', 'carefully', 'careless', 'carful', 'carolina', 'carrier', 'carry', 'cart', 'cartoons', 'case', 'cases', 'cat', 'catch', 'catches', 'categories', 'cause', 'caused', 'cave', 'cbs', 'cd', 'ceases', 'ceiling', 'ceilings', 'celebs', 'cell', 'cellphone', 'cent', 'center', 'certain', 'certainly', 'certified', 'chachki', 'chair', 'chalk', 'challenge', 'challenged', 'champ', 'chance', 'change', 'changed', 'changer', 'changes', 'changing', 'channel', 'channels', 'characteristics', 'charge', 'chargeable', 'charger', 'charging', 'charlotte', 'charm', 'charmed', 'chart', 'chat', 'chatting', 'cheap', 'cheaper', 'cheapest', 'check', 'checked', 'checking', 'child', 'childhood', 'children', 'chocolate', 'choice', 'choices', 'choose', 'choosing', 'choppy', 'chores', 'chose', 'chosen', 'christmas', 'chromebook', 'chromecast', 'circle', 'citizens', 'city', 'clapper', 'clarity', 'classes', 'classic', 'classical', 'classroom', 'clean', 'cleaner', 'cleaning', 'clear', 'clearer', 'clearly', 'click', 'clients', 'clips', 'clock', 'clockhome', 'clocking', 'clocks', 'clone', 'close', 'closed', 'closer', 'clothes', 'cloud', 'clue', 'cm_cr_ryp_prd_ttl_sol_18', 'cnn', 'co', 'coast', 'codes', 'coffee', 'cohesive', 'collection', 'collections', 'collectors', 'college', 'colon', 'color', 'colors', 'com', 'comands', 'combination', 'combine', 'combined', 'come', 'comeletely', 'comes', 'comfort', 'comfortable', 'comforting', 'coming', 'command', 'commanded', 'commands', 'comment', 'comments', 'commercials', 'commodity', 'common', 'communicate', 'communicated', 'communicating', 'communication', 'community', 'commute', 'como', 'compacity', 'compact', 'companion', 'company', 'comparable', 'compare', 'compared', 'compatible', 'competition', 'complacated', 'complain', 'complained', 'complaining', 'complaint', 'complaints', 'complete', 'completed', 'completely', 'complicated', 'compliment', 'compliments', 'components', 'compound', 'computer', 'computers', 'con', 'concept', 'concern', 'concerned', 'concerning', 'concerns', 'concise', 'condition', 'conditioning', 'conditions', 'conectado', 'conferencing', 'confident', 'configure', 'configured', 'conflict', 'confused', 'confuses', 'confusing', 'confusion', 'connect', 'connected', 'connecting', 'connection', 'connectivity', 'connects', 'cons', 'conscious', 'consider', 'considering', 'consistent', 'consistently', 'conspiracy', 'constant', 'constantly', 'constructed', 'consulting', 'consumer', 'contact', 'contacted', 'contacts', 'contains', 'content', 'contents', 'continous', 'continually', 'continue', 'continues', 'continuous', 'continuously', 'control', 'controll', 'controllable', 'controlled', 'controller', 'controlling', 'controls', 'convenience', 'convenient', 'conversation', 'conversations', 'convert', 'convinced', 'cook', 'cooking', 'cool', 'cooler', 'coolest', 'coop', 'coordinator', 'cord', 'cordless', 'cordthank', 'core', 'correct', 'corrected', 'correctly', 'corresponds', 'cortna', 'cost', 'costs', 'cotton', 'couch', 'could', 'couldn', 'counter', 'counters', 'countless', 'countries', 'country', 'county', 'couple', 'course', 'cousin', 'cousins', 'cover', 'covered', 'covers', 'cozi', 'cpr', 'cracked', 'crackle', 'crackling', 'crap', 'crappy', 'crashed', 'crashes', 'crashing', 'crazy', 'creapy', 'create', 'created', 'credited', 'creepy', 'crib', 'crisp', 'critically', 'cropping', 'cross', 'crunchyroll', 'csi', 'cualquier', 'cue', 'cumbersome', 'cups', 'current', 'currently', 'cursed', 'curve', 'custom', 'customer', 'customers', 'customizable', 'customization', 'customize', 'cut', 'cute', 'cutie', 'cutting', 'cycle', 'cycled', 'cycles', 'cylinder', 'cylindercal', 'dad', 'daily', 'damage', 'dance', 'dancing', 'dare', 'dark', 'darn', 'dash', 'data', 'date', 'dated', 'dates', 'daughter', 'day', 'days', 'de', 'deactivate', 'dead', 'deaf', 'deal', 'deals', 'debating', 'dec', 'decent', 'decide', 'decided', 'decides', 'decision', 'deck', 'decor', 'decorated', 'decrease', 'dedicated', 'deep', 'deeper', 'default', 'defeats', 'defective', 'defence', 'defently', 'definately', 'define', 'definitely', 'definition', 'definitively', 'defuser', 'degree', 'degrees', 'del', 'delay', 'delete', 'deliver', 'delivered', 'delivers', 'delivery', 'demand', 'dementia', 'den', 'denon', 'dense', 'dented', 'department', 'dependable', 'dependence', 'depending', 'deployed', 'depreciates', 'depth', 'described', 'description', 'design', 'designed', 'designers', 'desired', 'desk', 'desktop', 'despite', 'detailed', 'details', 'detect', 'determined', 'developed', 'developers', 'development', 'device', 'deviceoverall', 'devices', 'devise', 'devises', 'dhiw', 'diagnostics', 'dial', 'dictionary', 'did', 'didn', 'didnt', 'died', 'dies', 'differ', 'difference', 'differences', 'different', 'differentiate', 'difficult', 'difficulty', 'dig', 'digital', 'digitol', 'digs', 'dim', 'dimat', 'dimension', 'dimmer', 'dimming', 'dims', 'dining', 'dinner', 'dinosaurs', 'direct', 'direction', 'directions', 'directly', 'directtv', 'directv', 'disability', 'disable', 'disabled', 'disagree', 'disappoint', 'disappointed', 'disappointing', 'disappointment', 'disappointments', 'disarm', 'disaster', 'disconcerting', 'disconnect', 'disconnected', 'disconnecting', 'disconnections', 'disconnects', 'discount', 'discounts', 'discourage', 'discover', 'discovered', 'discoveredthat', 'discovering', 'discovery', 'dish', 'dislike', 'dislikes', 'dismiss', 'dismissed', 'display', 'displayed', 'displaying', 'displays', 'disposable', 'dissatisfaction', 'distance', 'distorted', 'distracting', 'distraction', 'disturbing', 'ditch', 'ditched', 'diversity', 'divertido', 'dj', 'do', 'docking', 'doctor', 'documentation', 'dodging', 'does', 'doesn', 'doesnt', 'dog', 'dogs', 'doing', 'dollar', 'dollars', 'domain', 'don', 'done', 'dont', 'door', 'doorbell', 'doors', 'dorm', 'dot', 'dots', 'doubtful', 'down', 'downfall', 'download', 'downloaded', 'downloading', 'downright', 'downside', 'downstairs', 'dp', 'drag', 'draw', 'drawback', 'drawing', 'dressed', 'drive', 'driven', 'drivers', 'drives', 'driving', 'drop', 'dropped', 'dropping', 'drops', 'dryer', 'due', 'dumb', 'dumber', 'dunce', 'dunno', 'during', 'dust', 'duty', 'dying', 'dylan', 'each', 'ear', 'early', 'earn', 'ease', 'easier', 'easily', 'east', 'easy', 'eavesdropping', 'echo', 'echoes', 'echoplus', 'echos', 'eco', 'ecobee3', 'ecoo', 'ecosystem', 'ed', 'edge', 'edit', 'educated', 'educational', 'eeaanh', 'effected', 'effective', 'effects', 'efficiency', 'efficient', 'effort', 'effortless', 'efforts', 'eg', 'eh', 'either', 'el', 'elderly', 'electeonically', 'electrician', 'electricity', 'electronic', 'electronically', 'electronics', 'elegant', 'element', 'eliminate', 'else', 'elsewhere', 'em', 'email', 'embarrassed', 'emergency', 'emoji', 'employees', 'en', 'enable', 'enabled', 'enables', 'encyclopedias', 'end', 'ended', 'endless', 'ends', 'engage', 'engagement', 'engaging', 'engine', 'engineers', 'english', 'enhanced', 'enjoy', 'enjoyable', 'enjoyed', 'enjoying', 'enjoyment', 'enjoys', 'enough', 'enrolment', 'enter', 'entering', 'enters', 'entertained', 'entertaining', 'entertainment', 'entire', 'entirely', 'entry', 'eq', 'equal', 'equalized', 'equalizer', 'equipment', 'equipo', 'error', 'errors', 'es', 'escencia', 'esp', 'espanol', 'español', 'especially', 'essential', 'essentially', 'esta', 'estar', 'este', 'estudio', 'estés', 'etc', 'etekcity', 'ethernet', 'evaluate', 'even', 'evening', 'event', 'events', 'eventually', 'ever', 'every', 'everybody', 'everyday', 'everyone', 'everything', 'everytime', 'everywhere', 'eveyday', 'evolve', 'evrything', 'ex', 'exact', 'exactly', 'example', 'examples', 'exasperation', 'exceeded', 'exceeds', 'excelente', 'excellent', 'excellently', 'except', 'exception', 'exceptionally', 'excessive', 'exchange', 'exchanges', 'exchanging', 'excited', 'excitement', 'excuses', 'exho', 'existence', 'existent', 'existing', 'expanded', 'expanding', 'expect', 'expectation', 'expectations', 'expected', 'expecting', 'expensive', 'experience', 'experienced', 'experiences', 'expert', 'expired', 'expires', 'explanation', 'explicit', 'explore', 'explored', 'exploring', 'extend', 'extended', 'extender', 'extends', 'extension', 'extent', 'external', 'extra', 'extras', 'extremely', 'extrimelly', 'eye', 'eyes', 'fabric', 'fabulous', 'face', 'facebook', 'faces', 'facetime', 'fact', 'factor', 'factory', 'facts', 'fail', 'failed', 'failing', 'fails', 'fair', 'fairly', 'fairness', 'fall', 'falling', 'falls', 'false', 'familiar', 'family', 'fan', 'fanatic', 'fans', 'fantastic', 'far', 'farther', 'fascinating', 'fashioned', 'fast', 'faster', 'fat', 'father', 'fathers', 'fault', 'faulty', 'favorite', 'favorites', 'featues', 'feature', 'featured', 'features', 'fee', 'feed', 'feedback', 'feeds', 'feee', 'feel', 'feeling', 'feels', 'fees', 'feet', 'fell', 'felt', 'fencing', 'few', 'fi', 'fiances', 'fidelity', 'figure', 'figured', 'figuring', 'fill', 'filled', 'filling', 'fills', 'final', 'finally', 'find', 'finding', 'finds', 'fine', 'fingertips', 'finicky', 'finish', 'fios', 'fire', 'firestick', 'firmare', 'firmware', 'first', 'fit', 'fits', 'five', 'fix', 'fixed', 'fixes', 'fixing', 'fixture', 'fixtures', 'flash', 'flashes', 'flat', 'flaw', 'flawless', 'flawlessly', 'flaws', 'fledged', 'flexibility', 'flexible', 'flickering', 'floating', 'floor', 'floored', 'fm', 'folks', 'follow', 'followed', 'font', 'foot', 'football', 'footprint', 'for', 'force', 'forces', 'forecast', 'forecasts', 'forever', 'forget', 'forgot', 'forgotten', 'forjust', 'form', 'forth', 'fortunately', 'forums', 'forward', 'found', 'four', 'fourth', 'free', 'freeze', 'freezes', 'frequently', 'fri', 'friday', 'friend', 'friendly', 'friends', 'from', 'front', 'frustrated', 'frustrating', 'frustration', 'full', 'fuller', 'fully', 'fumble', 'fun', 'funciona', 'funcionamiento', 'funciones', 'function', 'functionalities', 'functionality', 'functions', 'funny', 'further', 'furthermore', 'fussing', 'fussy', 'future', 'fw', 'gadget', 'gadgets', 'gain', 'galaxy', 'game', 'games', 'gameshow', 'gaming', 'gap', 'garage', 'garbage', 'gateway', 'gather', 'gatherings', 'gave', 'gazebo', 'gb', 'ge', 'geared', 'geek', 'geeks', 'gen', 'gen2', 'gender', 'general', 'generally', 'generation', 'genial', 'genre', 'genres', 'geo', 'get', 'gets', 'getting', 'gf', 'ghost', 'gift', 'gifts', 'girlfriend', 'girls', 'give', 'given', 'gives', 'giving', 'gizmo', 'glad', 'glaring', 'glasses', 'glitch', 'glitches', 'glitching', 'glorified', 'glow', 'go', 'god', 'godsend', 'goes', 'going', 'golden', 'gone', 'goo', 'good', 'goodies', 'goodmorning', 'goodness', 'google', 'googled', 'got', 'gotten', 'government', 'grab', 'grace', 'grand', 'grandaughter', 'grandchildren', 'granddaughter', 'grandfather', 'grandkids', 'grandmother', 'grandparent', 'grandparents', 'grands', 'grandson', 'grandsons', 'granite', 'granted', 'graphics', 'gratamente', 'greade', 'great', 'greater', 'greatest', 'greatly', 'green', 'greeting', 'grip', 'gripe', 'grocery', 'groggy', 'ground', 'group', 'groups', 'growing', 'grownups', 'grows', 'guarantee', 'guaranteeing', 'guard', 'guess', 'guest', 'guide', 'guilty', 'guy', 'guys', 'habit', 'habla', 'had', 'hadn', 'haha', 'hahaawesome', 'hahahaha', 'hairs', 'hal', 'half', 'hallway', 'hand', 'handle', 'handled', 'handles', 'hands', 'handy', 'hang', 'happen', 'happened', 'happening', 'happens', 'happier', 'happy', 'hard', 'hardcore', 'harder', 'hardly', 'harmony', 'harvard', 'has', 'hasn', 'hassel', 'hassle', 'hate', 'hated', 'hates', 'hauler', 'have', 'haven', 'havent', 'having', 'haywire', 'hbo', 'hcfe', 'hd', 'hd8', 'hdm1', 'hdmi', 'he', 'headline', 'headphone', 'headphones', 'heads', 'healing', 'hear', 'heard', 'hearing', 'hears', 'heart', 'heaven', 'heavy', 'heck', 'hectic', 'held', 'helful', 'hell', 'help', 'helped', 'helper', 'helpful', 'helping', 'helps', 'hence', 'her', 'here', 'hers', 'herself', 'hes', 'hesitant', 'hesitate', 'hesitated', 'hey', 'hi', 'hiccups', 'hide', 'high', 'higher', 'highest', 'highly', 'him', 'himself', 'hints', 'hire', 'hired', 'hiring', 'his', 'history', 'hit', 'hmm', 'hmmm', 'hmmmm', 'hold', 'holder', 'holding', 'hole', 'holiday', 'holy', 'home', 'homes', 'homescreen', 'homework', 'honest', 'honestly', 'hong', 'hook', 'hooked', 'hope', 'hoped', 'hopefully', 'hoping', 'hora', 'horrible', 'horse', 'hospital', 'hospitals', 'hosting', 'hot', 'hotel', 'hour', 'hours', 'house', 'household', 'houses', 'how', 'however', 'hr', 'https', 'hub', 'hubbed', 'hubby', 'hubs', 'hue', 'huele', 'huge', 'hulu', 'human', 'humour', 'hundred', 'hundreds', 'husband', 'hut', 'hvac', 'hype', 'id', 'idea', 'ideal', 'if', 'ifs', 'ight', 'ignored', 'ignoring', 'iheart', 'iheartradio', 'ihome', 'ii', 'illustrated', 'im', 'image', 'images', 'imagination', 'imagine', 'imagined', 'imhave', 'immediately', 'impaired', 'impede', 'imperfection', 'implementing', 'important', 'importantly', 'impressed', 'impressive', 'improve', 'improved', 'improvement', 'improvements', 'improving', 'impulse', 'imrproved', 'imusic', 'in', 'inability', 'inactivity', 'include', 'included', 'includes', 'including', 'inclusive', 'income', 'inconvenience', 'inconvenient', 'incorporated', 'increase', 'increasing', 'incredible', 'incredibly', 'india', 'indicated', 'indicator', 'indispensable', 'individual', 'individually', 'indoor', 'indundated', 'industry', 'inexpensive', 'inexperience', 'infact', 'inferior', 'info', 'información', 'information', 'informative', 'informed', 'infotainment', 'initial', 'initially', 'initiate', 'inline', 'innovative', 'input', 'insanely', 'insanity', 'insert', 'inside', 'insist', 'inspired', 'install', 'installation', 'installed', 'installing', 'installs', 'instant', 'instantaneous', 'instantly', 'instead', 'instruction', 'instructions', 'integrate', 'integrated', 'integrates', 'integrating', 'integration', 'intelagence', 'inteligente', 'intelligent', 'intend', 'intended', 'intention', 'interact', 'interacting', 'interaction', 'interactions', 'interactive', 'intercom', 'intercoms', 'interest', 'interested', 'interesting', 'interface', 'interfacing', 'interference', 'interferes', 'intermittent', 'intermittently', 'internal', 'international', 'internet', 'interpret', 'interrogated', 'interrupt', 'interruption', 'intimidating', 'into', 'introduce', 'introducing', 'introduction', 'intrusive', 'intuitive', 'invasion', 'invasions', 'invasive', 'invention', 'invest', 'invested', 'investing', 'investment', 'inviting', 'involved', 'involves', 'iot', 'iove', 'ipad', 'ipads', 'ipdates', 'iphone', 'irritated', 'irritating', 'is', 'ise', 'ish', 'island', 'isn', 'isnt', 'isolated', 'issue', 'issues', 'isue', 'it', 'ita', 'italian', 'italy', 'item', 'items', 'its', 'itself', 'itunes', 'iy', 'jack', 'jacuzzi', 'jamming', 'jams', 'jaws', 'jazz', 'jeapordy', 'jeff', 'jeopardy', 'jetsons', 'jimmy', 'job', 'johnny', 'join', 'joke', 'joked', 'jokes', 'journey', 'joy', 'jump', 'jumped', 'jumping', 'june', 'junk', 'just', 'karen', 'kasa', 'keen', 'keep', 'keeper', 'keeping', 'keeps', 'kept', 'key', 'keyboard', 'kick', 'kicking', 'kid', 'kids', 'killer', 'kind', 'kinda', 'kindle', 'kinds', 'king', 'kitchen', 'knee', 'knew', 'knob', 'knock', 'knocked', 'know', 'knowing', 'knowledgable', 'knowledge', 'knowledgeable', 'known', 'knows', 'kodi', 'kong', 'korea', 'kwikset', 'la', 'labeled', 'lack', 'lacking', 'lacks', 'ladies', 'lady', 'lag', 'lagging', 'lags', 'lame', 'lamp', 'lamps', 'land', 'language', 'lapsed', 'laptop', 'large', 'larger', 'las', 'last', 'lastly', 'late', 'lately', 'later', 'lauded', 'laugh', 'laughs', 'laughter', 'laundry', 'law', 'layer', 'laying', 'laziness', 'lazy', 'lcd', 'leaning', 'learn', 'learned', 'learnimg', 'learning', 'learns', 'leary', 'least', 'leave', 'leaves', 'leaving', 'led', 'left', 'leg', 'legally', 'leisure', 'length', 'less', 'lesson', 'let', 'lets', 'level', 'levels', 'lg', 'libraries', 'library', 'life', 'lifetime', 'lifht', 'light', 'lightbulb', 'lightening', 'lighting', 'lightning', 'lights', 'like', 'liked', 'likely', 'likes', 'liking', 'lil', 'lilttle', 'limitations', 'limited', 'line', 'lines', 'link', 'linked', 'linking', 'links', 'list', 'listen', 'listened', 'listening', 'listens', 'lists', 'lit', 'literally', 'literate', 'little', 'live', 'lived', 'lives', 'living', 'livingroom', 'll', 'llama', 'llegó', 'lm', 'lo', 'load', 'loaded', 'loads', 'local', 'locate', 'located', 'location', 'locations', 'lock', 'locked', 'locks', 'logitech', 'logo', 'logra', 'lol', 'lolol', 'lonely', 'long', 'longer', 'longevity', 'look', 'looked', 'looking', 'looks', 'looooooove', 'loose', 'looses', 'loosing', 'lose', 'loses', 'losing', 'loss', 'lost', 'lot', 'lots', 'loud', 'louder', 'louis', 'lov', 'love', 'loved', 'lovee', 'lover', 'loves', 'loving', 'low', 'lower', 'luck', 'luckily', 'lucky', 'lullaby', 'lurking', 'luv', 'lve', 'lyric', 'lyrical', 'lyrics', 'mac', 'machine', 'machines', 'maddening', 'made', 'madlibs', 'magically', 'mailed', 'main', 'mainly', 'mainstream', 'maintain', 'maintaining', 'majel', 'majes', 'major', 'make', 'makes', 'making', 'makings', 'male', 'malone', 'mama', 'man', 'manage', 'management', 'mandatory', 'maneuver', 'manners', 'manual', 'manually', 'manuals', 'manufacturers', 'many', 'marginal', 'mark', 'marked', 'market', 'marketing', 'marvelous', 'massive', 'match', 'matched', 'material', 'matter', 'maximize', 'may', 'maybe', 'mb', 'me', 'mean', 'meaningful', 'means', 'meant', 'media', 'medical', 'medications', 'mediocre', 'meditation', 'medium', 'meh', 'member', 'members', 'membership', 'memory', 'mention', 'mentioned', 'menu', 'mere', 'message', 'messages', 'messaging', 'messed', 'met', 'metro', 'mexico', 'mi', 'miami', 'mic', 'microphone', 'microphones', 'mics', 'mid', 'middle', 'mids', 'might', 'miles', 'million', 'mimic', 'mind', 'mindset', 'mine', 'mini', 'minimal', 'minimum', 'minor', 'minorly', 'mins', 'mint', 'minus', 'minute', 'minutes', 'mirroring', 'misled', 'misplace', 'miss', 'missed', 'missing', 'mistakes', 'misunderstands', 'mixed', 'moana', 'mobile', 'mobility', 'mode', 'model', 'models', 'modern', 'mom', 'moment', 'moms', 'mon', 'money', 'monitor', 'month', 'monthly', 'months', 'mood', 'more', 'moreover', 'morning', 'most', 'mostly', 'mother', 'motivation', 'motown', 'mount', 'mounted', 'move', 'moved', 'movie', 'movies', 'moving', 'mu', 'much', 'muffled', 'multi', 'multiple', 'music', 'must', 'mute', 'muy', 'my', 'mybedroom', 'myself', 'múltiples', 'na', 'name', 'named', 'names', 'nana', 'nanny', 'native', 'natural', 'nature', 'navigate', 'navigating', 'navigation', 'naw', 'nbc', 'nbsp', 'nc', 'nd', 'ne', 'near', 'nearly', 'neat', 'necessity', 'need', 'needed', 'needing', 'needs', 'negative', 'neighbors', 'neither', 'nephews', 'nervana', 'nervous', 'nest', 'net', 'netflix', 'network', 'never', 'new', 'newer', 'newest', 'news', 'newsflash', 'nexia', 'next', 'nfl', 'ni', 'nice', 'nicely', 'nicer', 'niece', 'nigh', 'night', 'nightmare', 'nights', 'nightstand', 'nil', 'nit', 'nite', 'nj', 'no', 'nobody', 'nois', 'noise', 'non', 'none', 'nonsense', 'nope', 'nor', 'norm', 'normal', 'north', 'nos', 'not', 'note', 'nothing', 'notice', 'noticeable', 'noticed', 'notification', 'notifications', 'notifies', 'novelty', 'now', 'nowhere', 'npr', 'nrw', 'nsa', 'nudged', 'numb', 'number', 'numbers', 'numerous', 'nurses', 'nuts', 'ny', 'obsessed', 'obtrusive', 'obvious', 'occasion', 'occasional', 'occasionally', 'ocean', 'odd', 'odds', 'of', 'off', 'offer', 'offered', 'offers', 'office', 'officially', 'offing', 'often', 'oh', 'ok', 'okay', 'old', 'older', 'oldest', 'olor', 'omg', 'on', 'once', 'onceproblem', 'one', 'ones', 'onetime', 'online', 'only', 'onme', 'onto', 'ontrac', 'oops', 'open', 'opened', 'opening', 'opens', 'opera', 'operate', 'operation', 'operations', 'operator', 'opinion', 'opportunity', 'opt', 'optical', 'optimum', 'option', 'optional', 'options', 'or', 'orange', 'orchestra', 'order', 'ordered', 'ordering', 'orders', 'organization', 'organized', 'orientation', 'oriented', 'original', 'originale', 'originally', 'other', 'others', 'otherwise', 'our', 'ours', 'ourselves', 'out', 'outdoor', 'outdoors', 'outlet', 'outlets', 'output', 'outrageous', 'outside', 'outsmart', 'outstanding', 'oven', 'over', 'overa', 'overall', 'overcoming', 'overheating', 'overpriced', 'override', 'overtime', 'overview', 'overwhelming', 'owe', 'owlhead', 'own', 'owned', 'owner', 'owners', 'ownership', 'owning', 'package', 'packaged', 'packages', 'packaging', 'packing', 'page', 'pages', 'paid', 'pain', 'pair', 'paired', 'pairing', 'pamphlet', 'pandora', 'pants', 'paper', 'par', 'paranoid', 'pare', 'parents', 'park', 'paroduct', 'part', 'participating', 'particular', 'particularly', 'parties', 'partner', 'parts', 'party', 'pass', 'password', 'past', 'patch', 'patience', 'patient', 'patio', 'pattern', 'pause', 'pauses', 'pay', 'payed', 'paying', 'pc', 'películas', 'pen', 'pencil', 'penny', 'people', 'pep', 'per', 'perdió', 'perfect', 'perfectly', 'perfecto', 'perform', 'performance', 'performed', 'performing', 'performs', 'perhaps', 'period', 'perk', 'permanently', 'persist', 'person', 'personal', 'personality', 'personalization', 'personalized', 'personally', 'persuasion', 'pets', 'phase', 'phenomenal', 'philip', 'philips', 'philipshue', 'phillip', 'phillips', 'philly', 'phone', 'phones', 'phonetically', 'photo', 'photographs', 'photos', 'phrase', 'pia', 'pick', 'picked', 'picking', 'picks', 'picky', 'pics', 'picture', 'pictures', 'piece', 'pin', 'pivoting', 'pixelated', 'pizza', 'place', 'placed', 'placement', 'places', 'placing', 'plain', 'plan', 'plane', 'planning', 'plans', 'platform', 'platforms', 'play', 'played', 'player', 'playing', 'playlist', 'playlists', 'plays', 'pleasantly', 'please', 'pleased', 'pleasedsimple', 'pleasure', 'plenty', 'plug', 'plugged', 'plugins', 'plugs', 'plus', 'pluto', 'pod', 'podcast', 'podcasts', 'point', 'pointed', 'pointless', 'politics', 'pool', 'poop', 'poor', 'pop', 'porch', 'port', 'portability', 'portable', 'portion', 'posed', 'position', 'positive', 'positives', 'possibilities', 'possible', 'possibly', 'post', 'poster', 'potential', 'pound', 'power', 'powercord', 'powerful', 'practical', 'practically', 'practicalthan', 'pray', 'pre', 'preciously', 'precise', 'prefer', 'preferences', 'preferred', 'premium', 'prepare', 'preparing', 'present', 'preset', 'press', 'presumably', 'prettier', 'pretty', 'prevent', 'prevents', 'preview', 'previous', 'previously', 'price', 'priced', 'prices', 'pricey', 'pricing', 'primarily', 'primary', 'prime', 'primeday', 'print', 'prior', 'privacy', 'prize', 'pro', 'probably', 'problem', 'problems', 'procedure', 'process', 'produc', 'product', 'producto', 'products', 'productsand', 'profiles', 'program', 'programing', 'programmed', 'programming', 'programs', 'project', 'projection', 'projects', 'promised', 'promoting', 'promotion', 'promp', 'prompt', 'prompts', 'proper', 'properly', 'props', 'pros', 'protected', 'protection', 'protocol', 'prove', 'proved', 'provee', 'provide', 'provided', 'provider', 'provides', 'providing', 'psychological', 'pueden', 'pull', 'pulling', 'pulsate', 'pulsed', 'punch', 'puny', 'pup', 'pur', 'purchase', 'purchased', 'purchaser', 'purchases', 'purchasing', 'pure', 'purely', 'purpose', 'purposes', 'push', 'pushed', 'put', 'puts', 'putting', 'puzzled', 'quality', 'qualty', 'que', 'quedó', 'queries', 'question', 'questionable', 'questions', 'quick', 'quicker', 'quickly', 'quiet', 'quit', 'quite', 'quiz', 'quot', 'quote', 'qvc', 'radio', 'rain', 'rainbow', 'raised', 'rambled', 'ran', 'random', 'randomly', 'range', 'ranger', 'rapidez', 'rare', 'rarely', 'rarity', 'rate', 'rather', 'rating', 'rattle', 'rattling', 'rcieved', 're', 'reach', 'reached', 'reaching', 'reactive', 'read', 'reader', 'reading', 'reads', 'ready', 'real', 'realizando', 'realize', 'realized', 'realizing', 'really', 'reason', 'reasonable', 'reasons', 'reauthorize', 'reboot', 'rebooted', 'rebooting', 'reboots', 'reccomend', 'receivded', 'receive', 'received', 'receiver', 'receivers', 'receiving', 'recent', 'recently', 'reception', 'rechargeable', 'recharged', 'recipe', 'recipes', 'recipient', 'recognition', 'recognize', 'recognizes', 'recomendable', 'recommend', 'recommended', 'recommending', 'reconditioned', 'reconfigure', 'reconnect', 'reconnected', 'reconnecting', 'record', 'recorded', 'recording', 'recordings', 'rectangular', 'recurring', 'red', 'reduced', 'redundant', 'ref', 'refer', 'reference', 'references', 'referred', 'refers', 'refined', 'refund', 'refunds', 'refurb', 'refurbish', 'refurbished', 'refurbishedthought', 'refurbishing', 'refurbs', 'regard', 'regardless', 'regional', 'register', 'registered', 'regret', 'regrets', 'regular', 'regularly', 'reinstall', 'related', 'relatively', 'relaxing', 'relay', 'release', 'released', 'reliable', 'relief', 'rely', 'remaining', 'remains', 'remedial', 'remember', 'remembering', 'remind', 'reminded', 'reminder', 'reminders', 'reminding', 'reminds', 'remorse', 'remote', 'rename', 'rent', 'renting', 'reoccurring', 'reorder', 'rep', 'repair', 'repairs', 'repeat', 'repeated', 'repeating', 'repeats', 'repertoire', 'replace', 'replaced', 'replacement', 'replaces', 'replacing', 'replied', 'replying', 'report', 'reported', 'reports', 'reportsalarm', 'reputation', 'request', 'requesting', 'requests', 'require', 'required', 'requires', 'research', 'researched', 'researching', 'resembling', 'resemption', 'reset', 'resetting', 'resist', 'resistant', 'resolution', 'resolved', 'resolves', 'respond', 'responding', 'responds', 'response', 'responses', 'responsive', 'responsiveness', 'respuesta', 'rest', 'restart', 'restrictions', 'restrictive', 'result', 'results', 'resume', 'retired', 'return', 'returned', 'returnef', 'returning', 'review', 'reviewing', 'reviews', 'revise', 'rewards', 'rid', 'rides', 'ridiculous', 'ridiculously', 'right', 'ring', 'rings', 'rivers', 'road', 'rock', 'rocks', 'roku', 'roll', 'room', 'roomba', 'rooms', 'rotate', 'rotates', 'rotation', 'rotations', 'rough', 'round', 'route', 'router', 'routine', 'routinely', 'routines', 'row', 'rub', 'rubber', 'run', 'running', 'runs', 's8', 's9', 'sad', 'sadly', 'safe', 'said', 'sale', 'sales', 'salsa', 'same', 'samsung', 'sang', 'sanity', 'satellite', 'satisfied', 'satisified', 'save', 'saved', 'saving', 'savvy', 'savy', 'saw', 'say', 'saying', 'says', 'scared', 'scenes', 'scent', 'schedule', 'scheduled', 'schedules', 'scheduling', 'school', 'science', 'scooped', 'scores', 'scottish', 'scoured', 'scratch', 'scratched', 'screamig', 'screaming', 'screen', 'screenless', 'screens', 'screenselect', 'screw', 'script', 'scroll', 'scrolling', 'scrolls', 'se', 'sealed', 'seamless', 'seamlessly', 'seams', 'search', 'searches', 'searching', 'season', 'second', 'seconds', 'secret', 'secretary', 'section', 'security', 'see', 'seeing', 'seem', 'seemed', 'seems', 'seen', 'seldom', 'select', 'selection', 'selections', 'self', 'selfies', 'sell', 'selling', 'semana', 'semi', 'send', 'sending', 'sends', 'senior', 'sense', 'sensitive', 'sensitivity', 'sent', 'sentence', 'separate', 'separately', 'seprately', 'series', 'serious', 'seriously', 'serius', 'serve', 'served', 'service', 'services', 'set', 'sets', 'setting', 'settings', 'settingshome', 'settins', 'settle', 'setup', 'setups', 'sever', 'several', 'sewing', 'sh', 'shaking', 'shape', 'sharing', 'sharp', 'she', 'shell', 'shelled', 'shifting', 'shine', 'shining', 'ship', 'shipment', 'shipped', 'shipping', 'shocked', 'shooting', 'shop', 'shopping', 'short', 'shortcomings', 'shorted', 'shorter', 'shortly', 'should', 'shouldn', 'shout', 'show', 'shower', 'showering', 'showing', 'showman', 'shown', 'shows', 'showtime', 'shuffle', 'shut', 'shuts', 'shutting', 'sibling', 'side', 'sigh', 'sight', 'sign', 'significant', 'silly', 'silver', 'similar', 'simple', 'simpler', 'simplicity', 'simplified', 'simplify', 'simply', 'simultaneously', 'sin', 'since', 'sincerely', 'sing', 'singing', 'single', 'singley', 'sink', 'sinqued', 'siri', 'sirius', 'sirrius', 'sister', 'sit', 'site', 'sits', 'sitting', 'situations', 'six', 'size', 'sized', 'skeptical', 'skill', 'skills', 'skips', 'skype', 'sleek', 'sleep', 'sleeper', 'sleeping', 'sleeps', 'sleepy', 'sliced', 'slide', 'slideshow', 'slight', 'slightly', 'sling', 'slow', 'slowly', 'sm', 'small', 'smaller', 'smart', 'smartbon', 'smarter', 'smarthome', 'smartphone', 'smartthing', 'smartthings', 'smells', 'smiths', 'smooth', 'smoothly', 'snap', 'snarls', 'sneaky', 'snell', 'snooze', 'snoozed', 'snoozes', 'so', 'soaked', 'soaking', 'soccer', 'social', 'socket', 'sofa', 'soft', 'softly', 'software', 'sold', 'solely', 'solid', 'solo', 'solución', 'solution', 'solved', 'solves', 'some', 'somebody', 'somehow', 'someone', 'something', 'sometime', 'sometimes', 'somewhat', 'son', 'song', 'songs', 'sonos', 'sons', 'sony', 'soon', 'sooner', 'sooo', 'sooooo', 'sooooooo', 'sopt', 'sore', 'sorely', 'sorprendió', 'sorry', 'sort', 'sound', 'soundbar', 'sounded', 'sounding', 'soundlink', 'sounds', 'soundtouch', 'source', 'sources', 'southern', 'spa', 'space', 'spaces', 'spacing', 'spam', 'span', 'spanish', 'spanking', 'spark', 'sparks', 'speak', 'speaker', 'speakers', 'speaking', 'speaks', 'special', 'specially', 'specific', 'specifically', 'specifily', 'specify', 'specifying', 'specs', 'spectacular', 'speech', 'speed', 'speeds', 'speedy', 'spell', 'spelling', 'spend', 'spending', 'spent', 'spiel', 'spilled', 'spin', 'spins', 'split', 'spoiled', 'spoke', 'spoken', 'sport', 'sports', 'spot', 'spotify', 'spotlight', 'spots', 'spouse', 'sprinkler', 'sprint', 'spur', 'spying', 'square', 'squirms', 'sry', 'ssdi', 'st', 'staff', 'stage', 'staging', 'stairs', 'stand', 'standalone', 'standard', 'standards', 'standing', 'stands', 'star', 'stark', 'stars', 'start', 'started', 'starting', 'starts', 'stat', 'state', 'statement', 'states', 'station', 'stationary', 'stationed', 'stations', 'stay', 'stayed', 'staying', 'steaming', 'steep', 'stellar', 'step', 'steps', 'stereo', 'stick', 'sticks', 'still', 'stimulus', 'stinks', 'stoled', 'stop', 'stopped', 'stops', 'storage', 'store', 'stories', 'storm', 'story', 'stove', 'straight', 'straightforward', 'strange', 'stream', 'streaming', 'streamline', 'strictly', 'string', 'strips', 'strong', 'strongly', 'structure', 'struggle', 'stubborn', 'stuck', 'students', 'stuff', 'stump', 'stupid', 'sturdy', 'style', 'stylish', 'su', 'sub', 'subject', 'subpar', 'subscriber', 'subscribing', 'subscription', 'subscriptiondoes', 'subscriptions', 'subsequently', 'substitute', 'success', 'successful', 'successfully', 'successor', 'such', 'suck', 'sucks', 'suffer', 'sufficient', 'suffolk', 'suggest', 'suggested', 'suggesting', 'suggestions', 'suggests', 'suitable', 'summoning', 'sunroom', 'supberb', 'super', 'superb', 'superior', 'supplied', 'supplying', 'support', 'supported', 'supporting', 'supports', 'suppose', 'supposed', 'sure', 'surely', 'surface', 'surprise', 'surprised', 'surprising', 'surprisingly', 'surround', 'survived', 'sweet', 'swell', 'swipe', 'swiping', 'switch', 'switched', 'switches', 'switching', 'sync', 'synced', 'synching', 'syncing', 'system', 'systems', 'table', 'tablet', 'tablets', 'tad', 'tailor', 'take', 'taken', 'takes', 'taking', 'tales', 'talk', 'talked', 'talking', 'talks', 'tall', 'taller', 'tap', 'tape', 'taping', 'tapped', 'tardis', 'tasha', 'task', 'tasks', 'teacher', 'teams', 'tear', 'tec', 'tech', 'techie', 'technical', 'technically', 'technicians', 'techno', 'technologically', 'technology', 'techy', 'teenagers', 'teeth', 'tekkie', 'telephone', 'television', 'tell', 'telling', 'tells', 'temp', 'temperature', 'temps', 'tempting', 'ten', 'tend', 'tends', 'terminology', 'terrible', 'terrific', 'test', 'tested', 'testing', 'texas', 'text', 'texts', 'tg', 'tge', 'than', 'thank', 'thanks', 'that', 'thats', 'the', 'theater', 'theecho', 'their', 'theirs', 'them', 'themes', 'themselves', 'then', 'theories', 'there', 'therefore', 'thermostat', 'these', 'thestand', 'thete', 'they', 'thick', 'thing', 'things', 'think', 'thinking', 'third', 'this', 'thongs', 'thorough', 'thoroughly', 'those', 'thou', 'though', 'thought', 'thoughts', 'thousands', 'three', 'thrilled', 'through', 'throughout', 'throw', 'thrown', 'thru', 'thu', 'thumb', 'thumbs', 'thunderstorm', 'thursday', 'ti', 'tickled', 'tiempo', 'tiene', 'ties', 'til', 'till', 'time', 'timer', 'timers', 'times', 'timing', 'tin', 'ting', 'tinker', 'tinkering', 'tinny', 'tiny', 'tipping', 'tips', 'tired', 'title', 'tivo', 'to', 'toda', 'today', 'toddler', 'together', 'toilet', 'told', 'tomorrow', 'tomy', 'ton', 'tones', 'tons', 'tony', 'too', 'took', 'tool', 'tools', 'tooth', 'top', 'topic', 'tosca', 'total', 'totallly', 'totally', 'tou', 'touch', 'touching', 'touted', 'toward', 'towards', 'tower', 'town', 'toy', 'tp', 'track', 'traditional', 'traffic', 'trailer', 'trailers', 'trained', 'trainees', 'training', 'transferring', 'travel', 'traveling', 'travelling', 'través', 'treadmill', 'treat', 'treble', 'trek', 'tremendous', 'trending', 'trial', 'tricks', 'tricky', 'tried', 'tries', 'trigger', 'trip', 'trivia', 'trouble', 'troubleshooting', 'troublesome', 'troubling', 'true', 'truly', 'trust', 'try', 'trying', 'tube', 'tubi', 'tune', 'tunein', 'tunes', 'turn', 'turned', 'turning', 'turns', 'tv', 'tvs', 'tweeter', 'tweeters', 'twice', 'twist', 'twitter', 'two', 'ty', 'type', 'typed', 'types', 'typical', 'typically', 'typing', 'títulos', 'udefulness', 'ugly', 'uhyour', 'ummm', 'un', 'unable', 'unacceptable', 'unavailable', 'unbelievable', 'uncle', 'under', 'underestimated', 'understand', 'understanding', 'understands', 'understood', 'unexpected', 'unfortunately', 'unhappy', 'unhelpful', 'unico', 'unimportant', 'uninstall', 'unique', 'unit', 'units', 'universal', 'unless', 'unlike', 'unlimited', 'unlocking', 'unnannounced', 'unnecessary', 'unobtrusive', 'unplug', 'unplugged', 'unresponsive', 'unsettling', 'untapped', 'until', 'unusable', 'unused', 'unwitty', 'unwrapped', 'up', 'upcoming', 'update', 'updated', 'updates', 'updating', 'upgrade', 'upgraded', 'upgrades', 'upgrading', 'upload', 'upon', 'upset', 'upsetting', 'upstairs', 'urge', 'us', 'usa', 'usable', 'usage', 'usb', 'usde', 'use', 'used', 'useful', 'useless', 'user', 'users', 'uses', 'using', 'usual', 'usually', 'utility', 'utilización', 'utilize', 'utilizing', 'vacation', 'vacations', 'vacuum', 'value', 'variant', 'variety', 'various', 'vast', 've', 'vehicle', 'verbal', 'verbalize', 'verbally', 'versa', 'versatile', 'versatility', 'verse', 'verses', 'version', 'versions', 'versus', 'very', 'vetted', 'vez', 'via', 'vibrating', 'vice', 'viceo', 'video', 'videos', 'view', 'viewed', 'viewing', 'views', 'vintage', 'viola', 'virtual', 'virtually', 'visa', 'visible', 'vision', 'visiting', 'visits', 'visual', 'visuals', 'vlan', 'voice', 'voices', 'voiceview', 'voila', 'voltage', 'voltson', 'volume', 'vs', 'vudu', 'wait', 'waited', 'waiting', 'waits', 'wake', 'wakes', 'waking', 'walk', 'walked', 'walking', 'walks', 'wall', 'walls', 'want', 'wanted', 'wanting', 'warehouse', 'warning', 'warns', 'warranty', 'was', 'wasconcerned', 'wasn', 'wasnt', 'waste', 'wasted', 'watch', 'watched', 'watching', 'water', 'wattage', 'wave', 'way', 'ways', 'we', 'weak', 'wealth', 'wear', 'weary', 'weather', 'web', 'website', 'websites', 'wedding', 'week', 'weekday', 'weekdays', 'weekend', 'weekly', 'weeks', 'weight', 'weird', 'welcome', 'well', 'wellfour', 'went', 'were', 'weren', 'what', 'whatever', 'whats', 'whatsoever', 'whe', 'when', 'whenever', 'where', 'wherever', 'whether', 'which', 'while', 'whisper', 'whistles', 'white', 'who', 'whole', 'whom', 'whos', 'whose', 'why', 'wi', 'wide', 'widespread', 'wife', 'wifi', 'wikipedia', 'will', 'willing', 'wind', 'window', 'winds', 'wink', 'wireless', 'wish', 'wished', 'wishing', 'with', 'within', 'without', 'woke', 'woken', 'won', 'wonder', 'wonderful', 'wonderfully', 'wonders', 'wont', 'woofer', 'woofers', 'woohoo', 'word', 'words', 'work', 'workarounds', 'worked', 'worker', 'working', 'workout', 'workreat', 'works', 'world', 'worried', 'worry', 'worse', 'worst', 'worth', 'worthless', 'worthy', 'would', 'wouldn', 'wow', 'writes', 'writing', 'wrong', 'www', 'xbox', 'xfinity', 'xm', 'yale', 'yard', 'yards', 'yeah', 'year', 'years', 'yell', 'yelling', 'yellow', 'yep', 'yes', 'yesterday', 'yet', 'yhe', 'york', 'you', 'young', 'younger', 'youngest', 'your', 'yourself', 'youtube', 'yr', 'yrs', 'yup', 'zero', 'zigbee', 'zonked', 'zzzz', 'zzzzzzz', 'útil']\n"
     ]
    }
   ],
   "source": [
    "print(vectorizer.get_feature_names())"
   ]
  },
  {
   "cell_type": "code",
   "execution_count": 24,
   "metadata": {
    "colab": {
     "base_uri": "https://localhost:8080/",
     "height": 134
    },
    "colab_type": "code",
    "id": "2xlWV7xUPuB3",
    "outputId": "0ce6a595-4492-4338-c016-68d511c3016a"
   },
   "outputs": [
    {
     "name": "stdout",
     "output_type": "stream",
     "text": [
      "[[0 0 0 ... 0 0 0]\n",
      " [0 0 0 ... 0 0 0]\n",
      " [0 0 0 ... 0 0 0]\n",
      " ...\n",
      " [0 0 0 ... 0 0 0]\n",
      " [0 0 0 ... 0 0 0]\n",
      " [0 0 0 ... 0 0 0]]\n"
     ]
    }
   ],
   "source": [
    "print(alexa_countvectorizer.toarray())  "
   ]
  },
  {
   "cell_type": "code",
   "execution_count": 25,
   "metadata": {
    "colab": {},
    "colab_type": "code",
    "id": "nIwY2YV7P1gA"
   },
   "outputs": [],
   "source": [
    "df_alexa.drop(['verified_reviews'], axis=1, inplace=True)\n",
    "reviews = pd.DataFrame(alexa_countvectorizer.toarray())"
   ]
  },
  {
   "cell_type": "code",
   "execution_count": 26,
   "metadata": {
    "colab": {},
    "colab_type": "code",
    "id": "uHpJupAxP6hO"
   },
   "outputs": [],
   "source": [
    "df_alexa = pd.concat([df_alexa, reviews], axis=1)"
   ]
  },
  {
   "cell_type": "code",
   "execution_count": 27,
   "metadata": {
    "colab": {
     "base_uri": "https://localhost:8080/",
     "height": 278
    },
    "colab_type": "code",
    "id": "YapwTEwTP88v",
    "outputId": "9eb50f74-7349-4186-af31-5e664a894803"
   },
   "outputs": [
    {
     "data": {
      "text/html": [
       "<div>\n",
       "<style scoped>\n",
       "    .dataframe tbody tr th:only-of-type {\n",
       "        vertical-align: middle;\n",
       "    }\n",
       "\n",
       "    .dataframe tbody tr th {\n",
       "        vertical-align: top;\n",
       "    }\n",
       "\n",
       "    .dataframe thead th {\n",
       "        text-align: right;\n",
       "    }\n",
       "</style>\n",
       "<table border=\"1\" class=\"dataframe\">\n",
       "  <thead>\n",
       "    <tr style=\"text-align: right;\">\n",
       "      <th></th>\n",
       "      <th>feedback</th>\n",
       "      <th>Black  Dot</th>\n",
       "      <th>Black  Plus</th>\n",
       "      <th>Black  Show</th>\n",
       "      <th>Black  Spot</th>\n",
       "      <th>Charcoal Fabric</th>\n",
       "      <th>Configuration: Fire TV Stick</th>\n",
       "      <th>Heather Gray Fabric</th>\n",
       "      <th>Oak Finish</th>\n",
       "      <th>Sandstone Fabric</th>\n",
       "      <th>...</th>\n",
       "      <th>4034</th>\n",
       "      <th>4035</th>\n",
       "      <th>4036</th>\n",
       "      <th>4037</th>\n",
       "      <th>4038</th>\n",
       "      <th>4039</th>\n",
       "      <th>4040</th>\n",
       "      <th>4041</th>\n",
       "      <th>4042</th>\n",
       "      <th>4043</th>\n",
       "    </tr>\n",
       "  </thead>\n",
       "  <tbody>\n",
       "    <tr>\n",
       "      <td>0</td>\n",
       "      <td>1</td>\n",
       "      <td>0</td>\n",
       "      <td>0</td>\n",
       "      <td>0</td>\n",
       "      <td>0</td>\n",
       "      <td>1</td>\n",
       "      <td>0</td>\n",
       "      <td>0</td>\n",
       "      <td>0</td>\n",
       "      <td>0</td>\n",
       "      <td>...</td>\n",
       "      <td>0</td>\n",
       "      <td>0</td>\n",
       "      <td>0</td>\n",
       "      <td>0</td>\n",
       "      <td>0</td>\n",
       "      <td>0</td>\n",
       "      <td>0</td>\n",
       "      <td>0</td>\n",
       "      <td>0</td>\n",
       "      <td>0</td>\n",
       "    </tr>\n",
       "    <tr>\n",
       "      <td>1</td>\n",
       "      <td>1</td>\n",
       "      <td>0</td>\n",
       "      <td>0</td>\n",
       "      <td>0</td>\n",
       "      <td>0</td>\n",
       "      <td>1</td>\n",
       "      <td>0</td>\n",
       "      <td>0</td>\n",
       "      <td>0</td>\n",
       "      <td>0</td>\n",
       "      <td>...</td>\n",
       "      <td>0</td>\n",
       "      <td>0</td>\n",
       "      <td>0</td>\n",
       "      <td>0</td>\n",
       "      <td>0</td>\n",
       "      <td>0</td>\n",
       "      <td>0</td>\n",
       "      <td>0</td>\n",
       "      <td>0</td>\n",
       "      <td>0</td>\n",
       "    </tr>\n",
       "    <tr>\n",
       "      <td>2</td>\n",
       "      <td>1</td>\n",
       "      <td>0</td>\n",
       "      <td>0</td>\n",
       "      <td>0</td>\n",
       "      <td>0</td>\n",
       "      <td>0</td>\n",
       "      <td>0</td>\n",
       "      <td>0</td>\n",
       "      <td>0</td>\n",
       "      <td>0</td>\n",
       "      <td>...</td>\n",
       "      <td>0</td>\n",
       "      <td>0</td>\n",
       "      <td>0</td>\n",
       "      <td>0</td>\n",
       "      <td>0</td>\n",
       "      <td>0</td>\n",
       "      <td>0</td>\n",
       "      <td>0</td>\n",
       "      <td>0</td>\n",
       "      <td>0</td>\n",
       "    </tr>\n",
       "    <tr>\n",
       "      <td>3</td>\n",
       "      <td>1</td>\n",
       "      <td>0</td>\n",
       "      <td>0</td>\n",
       "      <td>0</td>\n",
       "      <td>0</td>\n",
       "      <td>1</td>\n",
       "      <td>0</td>\n",
       "      <td>0</td>\n",
       "      <td>0</td>\n",
       "      <td>0</td>\n",
       "      <td>...</td>\n",
       "      <td>0</td>\n",
       "      <td>1</td>\n",
       "      <td>0</td>\n",
       "      <td>0</td>\n",
       "      <td>0</td>\n",
       "      <td>0</td>\n",
       "      <td>0</td>\n",
       "      <td>0</td>\n",
       "      <td>0</td>\n",
       "      <td>0</td>\n",
       "    </tr>\n",
       "    <tr>\n",
       "      <td>4</td>\n",
       "      <td>1</td>\n",
       "      <td>0</td>\n",
       "      <td>0</td>\n",
       "      <td>0</td>\n",
       "      <td>0</td>\n",
       "      <td>1</td>\n",
       "      <td>0</td>\n",
       "      <td>0</td>\n",
       "      <td>0</td>\n",
       "      <td>0</td>\n",
       "      <td>...</td>\n",
       "      <td>0</td>\n",
       "      <td>0</td>\n",
       "      <td>0</td>\n",
       "      <td>0</td>\n",
       "      <td>0</td>\n",
       "      <td>0</td>\n",
       "      <td>0</td>\n",
       "      <td>0</td>\n",
       "      <td>0</td>\n",
       "      <td>0</td>\n",
       "    </tr>\n",
       "  </tbody>\n",
       "</table>\n",
       "<p>5 rows × 4060 columns</p>\n",
       "</div>"
      ],
      "text/plain": [
       "   feedback  Black  Dot  Black  Plus  Black  Show  Black  Spot  \\\n",
       "0         1           0            0            0            0   \n",
       "1         1           0            0            0            0   \n",
       "2         1           0            0            0            0   \n",
       "3         1           0            0            0            0   \n",
       "4         1           0            0            0            0   \n",
       "\n",
       "   Charcoal Fabric   Configuration: Fire TV Stick  Heather Gray Fabric   \\\n",
       "0                 1                             0                     0   \n",
       "1                 1                             0                     0   \n",
       "2                 0                             0                     0   \n",
       "3                 1                             0                     0   \n",
       "4                 1                             0                     0   \n",
       "\n",
       "   Oak Finish   Sandstone Fabric   ...  4034  4035  4036  4037  4038  4039  \\\n",
       "0            0                  0  ...     0     0     0     0     0     0   \n",
       "1            0                  0  ...     0     0     0     0     0     0   \n",
       "2            0                  0  ...     0     0     0     0     0     0   \n",
       "3            0                  0  ...     0     1     0     0     0     0   \n",
       "4            0                  0  ...     0     0     0     0     0     0   \n",
       "\n",
       "   4040  4041  4042  4043  \n",
       "0     0     0     0     0  \n",
       "1     0     0     0     0  \n",
       "2     0     0     0     0  \n",
       "3     0     0     0     0  \n",
       "4     0     0     0     0  \n",
       "\n",
       "[5 rows x 4060 columns]"
      ]
     },
     "execution_count": 27,
     "metadata": {},
     "output_type": "execute_result"
    }
   ],
   "source": [
    "df_alexa.head()"
   ]
  },
  {
   "cell_type": "code",
   "execution_count": 28,
   "metadata": {
    "colab": {},
    "colab_type": "code",
    "id": "SlifAno_P_af"
   },
   "outputs": [],
   "source": [
    "X = df_alexa.drop(['feedback'],axis=1)"
   ]
  },
  {
   "cell_type": "code",
   "execution_count": 29,
   "metadata": {
    "colab": {},
    "colab_type": "code",
    "id": "fGGgNDsbQHIO"
   },
   "outputs": [],
   "source": [
    "y = df_alexa['feedback']"
   ]
  },
  {
   "cell_type": "code",
   "execution_count": 30,
   "metadata": {
    "colab": {},
    "colab_type": "code",
    "id": "bBAduNy9QK7W"
   },
   "outputs": [],
   "source": [
    "from sklearn.metrics import classification_report, confusion_matrix\n",
    "from sklearn.model_selection import train_test_split\n",
    "X_train, X_test, y_train, y_test = train_test_split(X, y, test_size = 0.20, random_state=5)"
   ]
  },
  {
   "cell_type": "code",
   "execution_count": 31,
   "metadata": {
    "colab": {
     "base_uri": "https://localhost:8080/",
     "height": 34
    },
    "colab_type": "code",
    "id": "GQbad2v9QRci",
    "outputId": "5fd89150-402b-4a67-bba3-04a6ace234bf"
   },
   "outputs": [
    {
     "data": {
      "text/plain": [
       "((2520, 4059), (2520,), (630, 4059), (630,))"
      ]
     },
     "execution_count": 31,
     "metadata": {},
     "output_type": "execute_result"
    }
   ],
   "source": [
    "X_train.shape, y_train.shape, X_test.shape, y_test.shape"
   ]
  },
  {
   "cell_type": "markdown",
   "metadata": {},
   "source": [
    "#NAIVE BAYES"
   ]
  },
  {
   "cell_type": "code",
   "execution_count": 32,
   "metadata": {},
   "outputs": [],
   "source": [
    "from sklearn.naive_bayes import GaussianNB\n",
    "gnb = GaussianNB()"
   ]
  },
  {
   "cell_type": "code",
   "execution_count": 33,
   "metadata": {},
   "outputs": [
    {
     "name": "stdout",
     "output_type": "stream",
     "text": [
      "              precision    recall  f1-score   support\n",
      "\n",
      "           0       0.11      0.44      0.18        59\n",
      "           1       0.92      0.65      0.76       571\n",
      "\n",
      "    accuracy                           0.63       630\n",
      "   macro avg       0.52      0.54      0.47       630\n",
      "weighted avg       0.84      0.63      0.70       630\n",
      "\n"
     ]
    },
    {
     "data": {
      "image/png": "[encoded data removed]",
      "text/plain": [
       "<Figure size 432x288 with 2 Axes>"
      ]
     },
     "metadata": {
      "needs_background": "light"
     },
     "output_type": "display_data"
    }
   ],
   "source": [
    "gnb.fit(X_train, y_train)\n",
    "y_predict = gnb.predict(X_test)\n",
    "cm = confusion_matrix(y_test, y_predict)\n",
    "sns.heatmap(cm, annot=True)\n",
    "print(classification_report(y_test, y_predict))"
   ]
  },
  {
   "cell_type": "markdown",
   "metadata": {
    "colab_type": "text",
    "id": "0hwf1JBKQNWe"
   },
   "source": [
    "#DECISION TREE AND RFC"
   ]
  },
  {
   "cell_type": "code",
   "execution_count": 34,
   "metadata": {
    "colab": {
     "base_uri": "https://localhost:8080/",
     "height": 151
    },
    "colab_type": "code",
    "id": "-LYQbtWyQXET",
    "outputId": "f6b7f019-46c1-4fa3-d2df-5f1c9cf977f4"
   },
   "outputs": [
    {
     "data": {
      "text/plain": [
       "RandomForestClassifier(bootstrap=True, class_weight=None, criterion='entropy',\n",
       "                       max_depth=None, max_features='auto', max_leaf_nodes=None,\n",
       "                       min_impurity_decrease=0.0, min_impurity_split=None,\n",
       "                       min_samples_leaf=1, min_samples_split=2,\n",
       "                       min_weight_fraction_leaf=0.0, n_estimators=100,\n",
       "                       n_jobs=None, oob_score=False, random_state=None,\n",
       "                       verbose=0, warm_start=False)"
      ]
     },
     "execution_count": 34,
     "metadata": {},
     "output_type": "execute_result"
    }
   ],
   "source": [
    "from sklearn.ensemble import RandomForestClassifier\n",
    "randomforest_classifier = RandomForestClassifier(n_estimators = 100, criterion = 'entropy')\n",
    "randomforest_classifier.fit(X_train, y_train)"
   ]
  },
  {
   "cell_type": "code",
   "execution_count": 35,
   "metadata": {
    "colab": {},
    "colab_type": "code",
    "id": "ubKWvWO5Qn_P"
   },
   "outputs": [
    {
     "name": "stdout",
     "output_type": "stream",
     "text": [
      "              precision    recall  f1-score   support\n",
      "\n",
      "           0       0.73      0.14      0.23        59\n",
      "           1       0.92      0.99      0.95       571\n",
      "\n",
      "    accuracy                           0.91       630\n",
      "   macro avg       0.82      0.57      0.59       630\n",
      "weighted avg       0.90      0.91      0.89       630\n",
      "\n"
     ]
    },
    {
     "data": {
      "image/png": "[encoded data removed]",
      "text/plain": [
       "<Figure size 432x288 with 2 Axes>"
      ]
     },
     "metadata": {
      "needs_background": "light"
     },
     "output_type": "display_data"
    }
   ],
   "source": [
    "y_predict = randomforest_classifier.predict(X_test)\n",
    "cm = confusion_matrix(y_test, y_predict)\n",
    "sns.heatmap(cm, annot=True)\n",
    "print(classification_report(y_test, y_predict))"
   ]
  },
  {
   "cell_type": "markdown",
   "metadata": {},
   "source": [
    "#LOGISTIC REGRESSION"
   ]
  },
  {
   "cell_type": "code",
   "execution_count": 36,
   "metadata": {},
   "outputs": [
    {
     "data": {
      "text/plain": [
       "LogisticRegression(C=1.0, class_weight=None, dual=False, fit_intercept=True,\n",
       "                   intercept_scaling=1, l1_ratio=None, max_iter=1000,\n",
       "                   multi_class='warn', n_jobs=None, penalty='l2',\n",
       "                   random_state=None, solver='lbfgs', tol=0.0001, verbose=0,\n",
       "                   warm_start=False)"
      ]
     },
     "execution_count": 36,
     "metadata": {},
     "output_type": "execute_result"
    }
   ],
   "source": [
    "from sklearn.linear_model import LogisticRegression\n",
    "lr = LogisticRegression(solver = 'lbfgs', max_iter = 1000)\n",
    "lr.fit(X_train, y_train)"
   ]
  },
  {
   "cell_type": "code",
   "execution_count": 37,
   "metadata": {},
   "outputs": [
    {
     "name": "stdout",
     "output_type": "stream",
     "text": [
      "              precision    recall  f1-score   support\n",
      "\n",
      "           0       0.81      0.42      0.56        59\n",
      "           1       0.94      0.99      0.97       571\n",
      "\n",
      "    accuracy                           0.94       630\n",
      "   macro avg       0.87      0.71      0.76       630\n",
      "weighted avg       0.93      0.94      0.93       630\n",
      "\n"
     ]
    },
    {
     "data": {
      "image/png": "[encoded data removed]",
      "text/plain": [
       "<Figure size 432x288 with 2 Axes>"
      ]
     },
     "metadata": {
      "needs_background": "light"
     },
     "output_type": "display_data"
    }
   ],
   "source": [
    "y_predict = lr.predict(X_test)\n",
    "cm = confusion_matrix(y_test, y_predict)\n",
    "sns.heatmap(cm, annot=True)\n",
    "print(classification_report(y_test, y_predict))"
   ]
  },
  {
   "cell_type": "markdown",
   "metadata": {
    "colab_type": "text",
    "id": "SUeLTgrAQ2_Q"
   },
   "source": [
    "#IMPROVE THE RFC MODEL"
   ]
  },
  {
   "cell_type": "code",
   "execution_count": 38,
   "metadata": {
    "colab": {},
    "colab_type": "code",
    "id": "aWz9k_FxQwkh"
   },
   "outputs": [],
   "source": [
    "df_alexa = pd.read_csv('amazon_alexa.tsv', sep='\\t')"
   ]
  },
  {
   "cell_type": "code",
   "execution_count": 39,
   "metadata": {
    "colab": {},
    "colab_type": "code",
    "id": "OB4xmtvPREk6"
   },
   "outputs": [],
   "source": [
    "df_alexa = pd.concat([df_alexa, pd.DataFrame(alexa_countvectorizer.toarray())], axis = 1)"
   ]
  },
  {
   "cell_type": "code",
   "execution_count": 40,
   "metadata": {
    "colab": {
     "base_uri": "https://localhost:8080/",
     "height": 412
    },
    "colab_type": "code",
    "id": "QFojbz8kRI4z",
    "outputId": "8f1f69f0-aafa-4ad3-b551-fd5999c769a2"
   },
   "outputs": [
    {
     "data": {
      "text/html": [
       "<div>\n",
       "<style scoped>\n",
       "    .dataframe tbody tr th:only-of-type {\n",
       "        vertical-align: middle;\n",
       "    }\n",
       "\n",
       "    .dataframe tbody tr th {\n",
       "        vertical-align: top;\n",
       "    }\n",
       "\n",
       "    .dataframe thead th {\n",
       "        text-align: right;\n",
       "    }\n",
       "</style>\n",
       "<table border=\"1\" class=\"dataframe\">\n",
       "  <thead>\n",
       "    <tr style=\"text-align: right;\">\n",
       "      <th></th>\n",
       "      <th>rating</th>\n",
       "      <th>date</th>\n",
       "      <th>variation</th>\n",
       "      <th>verified_reviews</th>\n",
       "      <th>feedback</th>\n",
       "      <th>0</th>\n",
       "      <th>1</th>\n",
       "      <th>2</th>\n",
       "      <th>3</th>\n",
       "      <th>4</th>\n",
       "      <th>...</th>\n",
       "      <th>4034</th>\n",
       "      <th>4035</th>\n",
       "      <th>4036</th>\n",
       "      <th>4037</th>\n",
       "      <th>4038</th>\n",
       "      <th>4039</th>\n",
       "      <th>4040</th>\n",
       "      <th>4041</th>\n",
       "      <th>4042</th>\n",
       "      <th>4043</th>\n",
       "    </tr>\n",
       "  </thead>\n",
       "  <tbody>\n",
       "    <tr>\n",
       "      <td>0</td>\n",
       "      <td>5</td>\n",
       "      <td>31-Jul-18</td>\n",
       "      <td>Charcoal Fabric</td>\n",
       "      <td>Love my Echo!</td>\n",
       "      <td>1</td>\n",
       "      <td>0</td>\n",
       "      <td>0</td>\n",
       "      <td>0</td>\n",
       "      <td>0</td>\n",
       "      <td>0</td>\n",
       "      <td>...</td>\n",
       "      <td>0</td>\n",
       "      <td>0</td>\n",
       "      <td>0</td>\n",
       "      <td>0</td>\n",
       "      <td>0</td>\n",
       "      <td>0</td>\n",
       "      <td>0</td>\n",
       "      <td>0</td>\n",
       "      <td>0</td>\n",
       "      <td>0</td>\n",
       "    </tr>\n",
       "    <tr>\n",
       "      <td>1</td>\n",
       "      <td>5</td>\n",
       "      <td>31-Jul-18</td>\n",
       "      <td>Charcoal Fabric</td>\n",
       "      <td>Loved it!</td>\n",
       "      <td>1</td>\n",
       "      <td>0</td>\n",
       "      <td>0</td>\n",
       "      <td>0</td>\n",
       "      <td>0</td>\n",
       "      <td>0</td>\n",
       "      <td>...</td>\n",
       "      <td>0</td>\n",
       "      <td>0</td>\n",
       "      <td>0</td>\n",
       "      <td>0</td>\n",
       "      <td>0</td>\n",
       "      <td>0</td>\n",
       "      <td>0</td>\n",
       "      <td>0</td>\n",
       "      <td>0</td>\n",
       "      <td>0</td>\n",
       "    </tr>\n",
       "    <tr>\n",
       "      <td>2</td>\n",
       "      <td>4</td>\n",
       "      <td>31-Jul-18</td>\n",
       "      <td>Walnut Finish</td>\n",
       "      <td>Sometimes while playing a game, you can answer...</td>\n",
       "      <td>1</td>\n",
       "      <td>0</td>\n",
       "      <td>0</td>\n",
       "      <td>0</td>\n",
       "      <td>0</td>\n",
       "      <td>0</td>\n",
       "      <td>...</td>\n",
       "      <td>0</td>\n",
       "      <td>0</td>\n",
       "      <td>0</td>\n",
       "      <td>0</td>\n",
       "      <td>0</td>\n",
       "      <td>0</td>\n",
       "      <td>0</td>\n",
       "      <td>0</td>\n",
       "      <td>0</td>\n",
       "      <td>0</td>\n",
       "    </tr>\n",
       "    <tr>\n",
       "      <td>3</td>\n",
       "      <td>5</td>\n",
       "      <td>31-Jul-18</td>\n",
       "      <td>Charcoal Fabric</td>\n",
       "      <td>I have had a lot of fun with this thing. My 4 ...</td>\n",
       "      <td>1</td>\n",
       "      <td>0</td>\n",
       "      <td>0</td>\n",
       "      <td>0</td>\n",
       "      <td>0</td>\n",
       "      <td>0</td>\n",
       "      <td>...</td>\n",
       "      <td>0</td>\n",
       "      <td>1</td>\n",
       "      <td>0</td>\n",
       "      <td>0</td>\n",
       "      <td>0</td>\n",
       "      <td>0</td>\n",
       "      <td>0</td>\n",
       "      <td>0</td>\n",
       "      <td>0</td>\n",
       "      <td>0</td>\n",
       "    </tr>\n",
       "    <tr>\n",
       "      <td>4</td>\n",
       "      <td>5</td>\n",
       "      <td>31-Jul-18</td>\n",
       "      <td>Charcoal Fabric</td>\n",
       "      <td>Music</td>\n",
       "      <td>1</td>\n",
       "      <td>0</td>\n",
       "      <td>0</td>\n",
       "      <td>0</td>\n",
       "      <td>0</td>\n",
       "      <td>0</td>\n",
       "      <td>...</td>\n",
       "      <td>0</td>\n",
       "      <td>0</td>\n",
       "      <td>0</td>\n",
       "      <td>0</td>\n",
       "      <td>0</td>\n",
       "      <td>0</td>\n",
       "      <td>0</td>\n",
       "      <td>0</td>\n",
       "      <td>0</td>\n",
       "      <td>0</td>\n",
       "    </tr>\n",
       "  </tbody>\n",
       "</table>\n",
       "<p>5 rows × 4049 columns</p>\n",
       "</div>"
      ],
      "text/plain": [
       "   rating       date         variation  \\\n",
       "0       5  31-Jul-18  Charcoal Fabric    \n",
       "1       5  31-Jul-18  Charcoal Fabric    \n",
       "2       4  31-Jul-18    Walnut Finish    \n",
       "3       5  31-Jul-18  Charcoal Fabric    \n",
       "4       5  31-Jul-18  Charcoal Fabric    \n",
       "\n",
       "                                    verified_reviews  feedback  0  1  2  3  4  \\\n",
       "0                                      Love my Echo!         1  0  0  0  0  0   \n",
       "1                                          Loved it!         1  0  0  0  0  0   \n",
       "2  Sometimes while playing a game, you can answer...         1  0  0  0  0  0   \n",
       "3  I have had a lot of fun with this thing. My 4 ...         1  0  0  0  0  0   \n",
       "4                                              Music         1  0  0  0  0  0   \n",
       "\n",
       "   ...  4034  4035  4036  4037  4038  4039  4040  4041  4042  4043  \n",
       "0  ...     0     0     0     0     0     0     0     0     0     0  \n",
       "1  ...     0     0     0     0     0     0     0     0     0     0  \n",
       "2  ...     0     0     0     0     0     0     0     0     0     0  \n",
       "3  ...     0     1     0     0     0     0     0     0     0     0  \n",
       "4  ...     0     0     0     0     0     0     0     0     0     0  \n",
       "\n",
       "[5 rows x 4049 columns]"
      ]
     },
     "execution_count": 40,
     "metadata": {},
     "output_type": "execute_result"
    }
   ],
   "source": [
    "df_alexa.head()"
   ]
  },
  {
   "cell_type": "code",
   "execution_count": 41,
   "metadata": {
    "colab": {},
    "colab_type": "code",
    "id": "ZAfDLVEfRLfJ"
   },
   "outputs": [],
   "source": [
    "df_alexa['length'] = df_alexa['verified_reviews'].apply(len) # add review length as a feature"
   ]
  },
  {
   "cell_type": "code",
   "execution_count": 42,
   "metadata": {
    "colab": {},
    "colab_type": "code",
    "id": "nNorsxhcRQjo"
   },
   "outputs": [],
   "source": [
    "X = df_alexa.drop(['rating', 'date', 'variation', 'verified_reviews', 'feedback'], axis = 1)"
   ]
  },
  {
   "cell_type": "code",
   "execution_count": 43,
   "metadata": {
    "colab": {},
    "colab_type": "code",
    "id": "C0GLjEUARWCb"
   },
   "outputs": [],
   "source": [
    "y = df_alexa['feedback']"
   ]
  },
  {
   "cell_type": "code",
   "execution_count": 44,
   "metadata": {
    "colab": {},
    "colab_type": "code",
    "id": "WXgX4CQfRZww"
   },
   "outputs": [],
   "source": [
    "from sklearn.model_selection import train_test_split\n",
    "X_train_2, X_test_2, y_train_2, y_test_2 = train_test_split(X, y, test_size = 0.20)"
   ]
  },
  {
   "cell_type": "code",
   "execution_count": 45,
   "metadata": {
    "colab": {
     "base_uri": "https://localhost:8080/",
     "height": 416
    },
    "colab_type": "code",
    "id": "G277J7DKRbeq",
    "outputId": "c240aa68-3721-4ba2-a4cc-4a135d3878e1"
   },
   "outputs": [
    {
     "name": "stdout",
     "output_type": "stream",
     "text": [
      "              precision    recall  f1-score   support\n",
      "\n",
      "           0       0.93      0.28      0.43        46\n",
      "           1       0.95      1.00      0.97       584\n",
      "\n",
      "    accuracy                           0.95       630\n",
      "   macro avg       0.94      0.64      0.70       630\n",
      "weighted avg       0.95      0.95      0.93       630\n",
      "\n"
     ]
    },
    {
     "data": {
      "image/png": "[encoded data removed]",
      "text/plain": [
       "<Figure size 432x288 with 2 Axes>"
      ]
     },
     "metadata": {
      "needs_background": "light"
     },
     "output_type": "display_data"
    }
   ],
   "source": [
    "from sklearn.metrics import classification_report, confusion_matrix\n",
    "from sklearn.ensemble import RandomForestClassifier\n",
    "\n",
    "randomforest_classifier = RandomForestClassifier(n_estimators = 300, criterion = 'entropy', random_state = 0)\n",
    "randomforest_classifier.fit(X_train_2, y_train_2)\n",
    "y_predict = randomforest_classifier.predict(X_test_2)\n",
    "cm = confusion_matrix(y_test_2, y_predict)\n",
    "sns.heatmap(cm, annot=True)\n",
    "print(classification_report(y_test_2, y_predict))"
   ]
  },
  {
   "cell_type": "markdown",
   "metadata": {},
   "source": [
    "#IMPROVE LOGISTIC REGRESSION"
   ]
  },
  {
   "cell_type": "code",
   "execution_count": 46,
   "metadata": {},
   "outputs": [
    {
     "name": "stderr",
     "output_type": "stream",
     "text": [
      "C:\\ANACONDAUPDATED\\lib\\site-packages\\sklearn\\linear_model\\logistic.py:947: ConvergenceWarning: lbfgs failed to converge. Increase the number of iterations.\n",
      "  \"of iterations.\", ConvergenceWarning)\n"
     ]
    },
    {
     "data": {
      "text/plain": [
       "LogisticRegression(C=1.0, class_weight=None, dual=False, fit_intercept=True,\n",
       "                   intercept_scaling=1, l1_ratio=None, max_iter=500,\n",
       "                   multi_class='warn', n_jobs=None, penalty='l2',\n",
       "                   random_state=None, solver='lbfgs', tol=0.0001, verbose=0,\n",
       "                   warm_start=False)"
      ]
     },
     "execution_count": 46,
     "metadata": {},
     "output_type": "execute_result"
    }
   ],
   "source": [
    "lr = LogisticRegression(solver = 'lbfgs', max_iter = 500)\n",
    "lr.fit(X_train_2, y_train_2)"
   ]
  },
  {
   "cell_type": "code",
   "execution_count": 47,
   "metadata": {},
   "outputs": [
    {
     "name": "stdout",
     "output_type": "stream",
     "text": [
      "              precision    recall  f1-score   support\n",
      "\n",
      "           0       0.80      0.52      0.63        46\n",
      "           1       0.96      0.99      0.98       584\n",
      "\n",
      "    accuracy                           0.96       630\n",
      "   macro avg       0.88      0.76      0.80       630\n",
      "weighted avg       0.95      0.96      0.95       630\n",
      "\n"
     ]
    },
    {
     "data": {
      "image/png": "[encoded data removed]",
      "text/plain": [
       "<Figure size 432x288 with 2 Axes>"
      ]
     },
     "metadata": {
      "needs_background": "light"
     },
     "output_type": "display_data"
    }
   ],
   "source": [
    "y_predict = lr.predict(X_test_2)\n",
    "cm = confusion_matrix(y_test_2, y_predict)\n",
    "sns.heatmap(cm, annot=True)\n",
    "print(classification_report(y_test_2, y_predict))"
   ]
  },
  {
   "cell_type": "code",
   "execution_count": null,
   "metadata": {},
   "outputs": [],
   "source": [
    "# we can use either improved Logistic Regression or improved random forest classifier as the final model."
   ]
  }
 ],
 "metadata": {
  "colab": {
   "collapsed_sections": [],
   "name": "amazon alexa sentiment analysis.ipynb",
   "provenance": [],
   "toc_visible": true
  },
  "kernelspec": {
   "display_name": "Python 3",
   "language": "python",
   "name": "python3"
  },
  "language_info": {
   "codemirror_mode": {
    "name": "ipython",
    "version": 3
   },
   "file_extension": ".py",
   "mimetype": "text/x-python",
   "name": "python",
   "nbconvert_exporter": "python",
   "pygments_lexer": "ipython3",
   "version": "3.7.4"
  }
 },
 "nbformat": 4,
 "nbformat_minor": 1
}
